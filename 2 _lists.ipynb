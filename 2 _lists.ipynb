{
 "cells": [
  {
   "cell_type": "markdown",
   "metadata": {},
   "source": [
    "# Lists\n",
    "Lists are a type of data structure that allows to manage a huge quantity of data."
   ]
  },
  {
   "cell_type": "markdown",
   "metadata": {},
   "source": [
    "## Defining\n",
    "A list is capable of operating different types of primitive data structures at the same time.\n"
   ]
  },
  {
   "cell_type": "code",
   "execution_count": 2,
   "metadata": {},
   "outputs": [],
   "source": [
    "#We can define a list using this sintax\n",
    "list_1 = list()\n",
    "\n",
    "# Or we can define it as follow:\n",
    "\n",
    "list_2 = []"
   ]
  },
  {
   "cell_type": "code",
   "execution_count": 4,
   "metadata": {},
   "outputs": [
    {
     "name": "stdout",
     "output_type": "stream",
     "text": [
      "[10, 21.78, True, 'String']\n"
     ]
    }
   ],
   "source": [
    "## Creating and showing a list with data\n",
    "##    0     1      2      3           positive access index\n",
    "##    -4     -3      -2      -1       negative access index\n",
    "ls = [10, 21.78, True, 'String']\n",
    "\n",
    "print(ls)\n"
   ]
  },
  {
   "cell_type": "code",
   "execution_count": 7,
   "metadata": {},
   "outputs": [],
   "source": [
    "## As a good practice, tries to create a list that contains the same type of data\n",
    "\n",
    "ls_int = [-10, 5, 0, 5, 10]\n",
    "\n",
    "ls_floats = [-1.499, 74.32, 8.2, -2.54, 10.0]\n",
    "\n",
    "ls_booleans = [False, True, (3>4), 2>1 and 10 != 11]\n",
    "\n",
    "ls_strings = [\"Hey\", \"Hello\", \"Python\", \"Language\", \"Bye\"]"
   ]
  },
  {
   "cell_type": "code",
   "execution_count": 14,
   "metadata": {},
   "outputs": [
    {
     "name": "stdout",
     "output_type": "stream",
     "text": [
      "Python\n",
      "Django\n",
      "Flask\n",
      " Ruby\n",
      "Java\n",
      "Java\n"
     ]
    }
   ],
   "source": [
    "## Getting the value through the index value[0,n]\n",
    "list_classes = [\"Python\", \"Django\", \"Flask\", \" Ruby\", \"Java\"]\n",
    "\n",
    "class1 = list_classes[0]\n",
    "print(class1)\n",
    "\n",
    "class2 = list_classes[1]\n",
    "print(class2)\n",
    "\n",
    "class3 = list_classes[2]\n",
    "print(class3)\n",
    "\n",
    "class4 = list_classes[3]\n",
    "print(class4)\n",
    "\n",
    "class5 = list_classes[4]\n",
    "print(class5)\n",
    "\n",
    "## It is possible to read values from negative indexes:\n",
    "## Last value of a list\n",
    "last_class = list_classes[-1]\n",
    "print(last_class)\n"
   ]
  },
  {
   "cell_type": "markdown",
   "metadata": {},
   "source": [
    "## Replacing a value"
   ]
  },
  {
   "cell_type": "code",
   "execution_count": 17,
   "metadata": {},
   "outputs": [
    {
     "name": "stdout",
     "output_type": "stream",
     "text": [
      "['Rust', 'Django', 'Flask', ' Ruby', 'Java']\n"
     ]
    }
   ],
   "source": [
    "list_classes = [\"Python\", \"Django\", \"Flask\", \" Ruby\", \"Java\"]\n",
    "\n",
    "list_classes[0] = \"Rust\" # Replacing a value in a determined index\n",
    "print(list_classes)"
   ]
  },
  {
   "cell_type": "markdown",
   "metadata": {},
   "source": [
    "## Sublists"
   ]
  },
  {
   "cell_type": "code",
   "execution_count": 42,
   "metadata": {},
   "outputs": [
    {
     "name": "stdout",
     "output_type": "stream",
     "text": [
      "['Python', 'Django', 'Flask']\n"
     ]
    }
   ],
   "source": [
    "list_classes = [\"Python\", \"Django\", \"Flask\", \" Ruby\", \"Java\"]\n",
    "\n",
    "sub_list = list_classes[0:3]  #list_name[start:end]\n",
    "print(sub_list)\n"
   ]
  },
  {
   "cell_type": "code",
   "execution_count": 20,
   "metadata": {},
   "outputs": [
    {
     "data": {
      "text/plain": [
       "['Flask', ' Ruby', 'Java']"
      ]
     },
     "execution_count": 20,
     "metadata": {},
     "output_type": "execute_result"
    }
   ],
   "source": [
    "## [start:] -> We get the last elements of the list\n",
    "list_classes[2:]"
   ]
  },
  {
   "cell_type": "code",
   "execution_count": 21,
   "metadata": {},
   "outputs": [
    {
     "data": {
      "text/plain": [
       "['Python', 'Django']"
      ]
     },
     "execution_count": 21,
     "metadata": {},
     "output_type": "execute_result"
    }
   ],
   "source": [
    "## [:end] -> We get the first elements of the list\n",
    "list_classes[:2]"
   ]
  },
  {
   "cell_type": "code",
   "execution_count": 43,
   "metadata": {},
   "outputs": [
    {
     "data": {
      "text/plain": [
       "['Django', ' Ruby']"
      ]
     },
     "execution_count": 43,
     "metadata": {},
     "output_type": "execute_result"
    }
   ],
   "source": [
    "## [start:end:skip] -> We get the elements of the list from start to the end with a skip\n",
    "list_classes[1:4:2]"
   ]
  },
  {
   "cell_type": "code",
   "execution_count": 44,
   "metadata": {},
   "outputs": [
    {
     "data": {
      "text/plain": [
       "['Python', 'Flask', 'Java']"
      ]
     },
     "execution_count": 44,
     "metadata": {},
     "output_type": "execute_result"
    }
   ],
   "source": [
    "## [::skip] -> We get all the elements of the list with a skip of n\n",
    "list_classes[::2]"
   ]
  },
  {
   "cell_type": "code",
   "execution_count": 25,
   "metadata": {},
   "outputs": [
    {
     "data": {
      "text/plain": [
       "['Python', 'Django', 'Flask', ' Ruby', 'Java']"
      ]
     },
     "execution_count": 25,
     "metadata": {},
     "output_type": "execute_result"
    }
   ],
   "source": [
    "## [:] -> We get all the elements from the principal list\n",
    "list_classes[:]"
   ]
  },
  {
   "cell_type": "markdown",
   "metadata": {},
   "source": [
    "## Adding new values"
   ]
  },
  {
   "cell_type": "code",
   "execution_count": 31,
   "metadata": {},
   "outputs": [
    {
     "name": "stdout",
     "output_type": "stream",
     "text": [
      "['Python', 'Django', 'Flask', ' Ruby', 'Java', 'C++', 'C#']\n"
     ]
    }
   ],
   "source": [
    "## Append method\n",
    "list_classes = [\"Python\", \"Django\", \"Flask\", \"Ruby\", \"Java\"]\n",
    "list_classes.append(\"C++\")\n",
    "list_classes.append(\"C#\")\n",
    "print(list_classes)"
   ]
  },
  {
   "cell_type": "code",
   "execution_count": 32,
   "metadata": {},
   "outputs": [
    {
     "name": "stdout",
     "output_type": "stream",
     "text": [
      "['Python', 'Assembly', 'Django', 'Flask', ' Ruby', 'Java', 'C++', 'C#']\n"
     ]
    }
   ],
   "source": [
    "## Insert method | list.insert(index, value)\n",
    "list_classes.insert(1, \"Assembly\")\n",
    "print(list_classes)"
   ]
  },
  {
   "cell_type": "code",
   "execution_count": 33,
   "metadata": {},
   "outputs": [
    {
     "name": "stdout",
     "output_type": "stream",
     "text": [
      "['Python', 'Assembly', 'Django', 'Flask', ' Ruby', 'Java', 'C++', 'C#', 'Docker, Kubernetes']\n"
     ]
    }
   ],
   "source": [
    "##Extend method | list.extend(list1)\n",
    "list_classes2 = [\"Docker, Kubernetes\"]\n",
    "\n",
    "list_classes.extend(list_classes2)\n",
    "print(list_classes)"
   ]
  },
  {
   "cell_type": "markdown",
   "metadata": {},
   "source": [
    "## Removing values"
   ]
  },
  {
   "cell_type": "code",
   "execution_count": 38,
   "metadata": {},
   "outputs": [
    {
     "name": "stdout",
     "output_type": "stream",
     "text": [
      "['Python', 'Assembly', 'Django', 'Flask', 'Java', 'C++', 'C#', 'Docker, Kubernetes']\n"
     ]
    }
   ],
   "source": [
    "## Removing a value in the list by using remove method\n",
    "list_classes = ['Python', 'Assembly', 'Django', 'Flask', 'Ruby', 'Java', 'C++', 'C#', 'Docker, Kubernetes']\n",
    "list_classes.remove('Ruby')\n",
    "print(list_classes)"
   ]
  },
  {
   "cell_type": "code",
   "execution_count": null,
   "metadata": {},
   "outputs": [],
   "source": [
    "## Removing a value in the list by using remove method\n",
    "list_classes = ['Python', 'Assembly', 'Django', 'Flask', 'Ruby', 'Java', 'C++', 'C#', 'Docker, Kubernetes']\n",
    "list_classes.remove('Ruby')\n",
    "print(list_classes)"
   ]
  },
  {
   "cell_type": "code",
   "execution_count": 39,
   "metadata": {},
   "outputs": [
    {
     "name": "stdout",
     "output_type": "stream",
     "text": [
      "['Assembly', 'Django', 'Flask', 'Ruby', 'Java', 'C++', 'C#', 'Docker, Kubernetes']\n"
     ]
    }
   ],
   "source": [
    "## Removing a value in the list by using the index\n",
    "list_classes = ['Python', 'Assembly', 'Django', 'Flask', 'Ruby', 'Java', 'C++', 'C#', 'Docker, Kubernetes']\n",
    "del list_classes[0] ## Reserved word \"del\"\n",
    "print(list_classes)"
   ]
  },
  {
   "cell_type": "code",
   "execution_count": 40,
   "metadata": {},
   "outputs": [
    {
     "name": "stdout",
     "output_type": "stream",
     "text": [
      "[]\n"
     ]
    }
   ],
   "source": [
    "## delete all values in the list by using clear() method\n",
    "list_classes = ['Python', 'Assembly', 'Django', 'Flask', 'Ruby', 'Java', 'C++', 'C#', 'Docker, Kubernetes']\n",
    "list_classes.clear()\n",
    "print(list_classes)"
   ]
  },
  {
   "cell_type": "markdown",
   "metadata": {},
   "source": [
    "## Methods for a list"
   ]
  },
  {
   "cell_type": "code",
   "execution_count": 45,
   "metadata": {},
   "outputs": [
    {
     "name": "stdout",
     "output_type": "stream",
     "text": [
      "[3, 13, 14, 58, 74, 321, 520]\n"
     ]
    }
   ],
   "source": [
    "list_ = [14, 58, 13, 3, 520, 74, 321]\n",
    "\n",
    "# Method sort(reverse=False by default) order values in the list \n",
    "list_.sort()\n",
    "print(list_)"
   ]
  },
  {
   "cell_type": "code",
   "execution_count": 48,
   "metadata": {},
   "outputs": [
    {
     "name": "stdout",
     "output_type": "stream",
     "text": [
      "[520, 321, 74, 58, 14, 13, 3]\n"
     ]
    }
   ],
   "source": [
    "# Method sort(reverse=True) order values in a reverse way\n",
    "list_.sort(reverse=True)\n",
    "print(list_)"
   ]
  },
  {
   "cell_type": "code",
   "execution_count": 51,
   "metadata": {},
   "outputs": [
    {
     "name": "stdout",
     "output_type": "stream",
     "text": [
      "True\n"
     ]
    }
   ],
   "source": [
    "## Check if a value is available in a list\n",
    "print(3 in list_)"
   ]
  },
  {
   "cell_type": "code",
   "execution_count": 52,
   "metadata": {},
   "outputs": [
    {
     "name": "stdout",
     "output_type": "stream",
     "text": [
      "False\n"
     ]
    }
   ],
   "source": [
    "## Check if a value is not available in a list\n",
    "print(3 not in list_)"
   ]
  },
  {
   "cell_type": "code",
   "execution_count": 56,
   "metadata": {},
   "outputs": [
    {
     "name": "stdout",
     "output_type": "stream",
     "text": [
      "True\n",
      "3\n"
     ]
    }
   ],
   "source": [
    "## Extract the index of a value found\n",
    "print(58 in list_)\n",
    "\n",
    "index = list_.index(58)\n",
    "print(index)"
   ]
  },
  {
   "cell_type": "markdown",
   "metadata": {},
   "source": [
    "## Matrices"
   ]
  },
  {
   "cell_type": "code",
   "execution_count": 60,
   "metadata": {},
   "outputs": [
    {
     "name": "stdout",
     "output_type": "stream",
     "text": [
      "[[10, 20], [30, 40]]\n"
     ]
    }
   ],
   "source": [
    "colum_a = [10,20]\n",
    "colum_b = [30,40]\n",
    "\n",
    "matrix = [colum_a, colum_b] # 2 x 2\n",
    "print(matrix)\n"
   ]
  },
  {
   "cell_type": "code",
   "execution_count": 64,
   "metadata": {},
   "outputs": [
    {
     "name": "stdout",
     "output_type": "stream",
     "text": [
      "10\n"
     ]
    }
   ],
   "source": [
    "# Show a specific value in a matrix\n",
    "print(matrix[0][0]) # matrix[row][colum]"
   ]
  }
 ],
 "metadata": {
  "kernelspec": {
   "display_name": "Python 3",
   "language": "python",
   "name": "python3"
  },
  "language_info": {
   "codemirror_mode": {
    "name": "ipython",
    "version": 3
   },
   "file_extension": ".py",
   "mimetype": "text/x-python",
   "name": "python",
   "nbconvert_exporter": "python",
   "pygments_lexer": "ipython3",
   "version": "3.9.0"
  }
 },
 "nbformat": 4,
 "nbformat_minor": 2
}
