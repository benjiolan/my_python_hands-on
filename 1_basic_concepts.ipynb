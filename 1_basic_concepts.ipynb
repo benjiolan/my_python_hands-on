{
 "cells": [
  {
   "cell_type": "markdown",
   "metadata": {},
   "source": [
    "## Comments\n",
    "Comments are asigned by '#' for a line and \"\"\" Text \"\"\" for a paragraph"
   ]
  },
  {
   "cell_type": "code",
   "execution_count": 9,
   "metadata": {},
   "outputs": [],
   "source": [
    "# This is a comment in a line"
   ]
  },
  {
   "cell_type": "code",
   "execution_count": 12,
   "metadata": {},
   "outputs": [
    {
     "data": {
      "text/plain": [
       "'\\nHet there! \\nThis is a commented paragraph \\nwith line break\\n'"
      ]
     },
     "execution_count": 12,
     "metadata": {},
     "output_type": "execute_result"
    }
   ],
   "source": [
    "\"\"\"\n",
    "Het there! \n",
    "This is a commented paragraph \n",
    "with line break\n",
    "\"\"\""
   ]
  },
  {
   "cell_type": "markdown",
   "metadata": {},
   "source": [
    "## Print on console"
   ]
  },
  {
   "cell_type": "code",
   "execution_count": 2,
   "metadata": {},
   "outputs": [
    {
     "name": "stdout",
     "output_type": "stream",
     "text": [
      "Hola mundo\n",
      "I can do this way as well\n"
     ]
    }
   ],
   "source": [
    "print(\"Hola mundo\")\n",
    "print(\"I can do\",  \"this way\", \"as well\")"
   ]
  },
  {
   "cell_type": "markdown",
   "metadata": {},
   "source": [
    "## Variables"
   ]
  },
  {
   "cell_type": "code",
   "execution_count": 25,
   "metadata": {},
   "outputs": [
    {
     "name": "stdout",
     "output_type": "stream",
     "text": [
      "Var 1:  15\n",
      "Var 2:  5\n"
     ]
    }
   ],
   "source": [
    "# Intergers\n",
    "var1_int = 10\n",
    "var2_int = 5\n",
    "print(\"Var 1: \", var1_int + var2_int)\n",
    "print(\"Var 2: \", var2_int)"
   ]
  },
  {
   "cell_type": "code",
   "execution_count": 14,
   "metadata": {},
   "outputs": [
    {
     "name": "stdout",
     "output_type": "stream",
     "text": [
      "varchar 1: a\n",
      "varchar 2: a\n",
      "string 1: hola\n",
      "string 2: this_contain_a_'\n",
      "string 3: \"This is a title\"\n"
     ]
    }
   ],
   "source": [
    "# Char and String\n",
    "varchar1 = 'a' # or\n",
    "varchar2 = \"a\"\n",
    "string1 = 'hola' #or\n",
    "string2 = \"this_contain_a_'\"\n",
    "string3 = '\"This is a title\"'\n",
    "print(\"varchar 1:\", varchar1)\n",
    "print(\"varchar 2:\", varchar2)\n",
    "print(\"string 1:\", string1)\n",
    "print(\"string 2:\", string2)\n",
    "print('string 3:', string3)\n"
   ]
  },
  {
   "cell_type": "code",
   "execution_count": 24,
   "metadata": {},
   "outputs": [
    {
     "name": "stdout",
     "output_type": "stream",
     "text": [
      "Pi value:  3.1415\n",
      "Minus Pi value:  -3.1415\n"
     ]
    },
    {
     "data": {
      "text/plain": [
       "float"
      ]
     },
     "execution_count": 24,
     "metadata": {},
     "output_type": "execute_result"
    }
   ],
   "source": [
    "# Floating\n",
    "varfloat1 = 3.1415\n",
    "varfloat2 = -3.1415\n",
    "print(\"Pi value: \", varfloat1)\n",
    "print(\"Minus Pi value: \", varfloat2)\n",
    "type(varfloat1)"
   ]
  },
  {
   "cell_type": "code",
   "execution_count": 23,
   "metadata": {},
   "outputs": [
    {
     "name": "stdout",
     "output_type": "stream",
     "text": [
      "Var 1:  False\n",
      "Var 2:  True\n"
     ]
    }
   ],
   "source": [
    "# Boolean\n",
    "var_bool1 = False\n",
    "var_bool2 = bool(1)\n",
    "\n",
    "print(\"Var 1: \", var_bool1)\n",
    "print(\"Var 2: \", var_bool2)"
   ]
  },
  {
   "cell_type": "markdown",
   "metadata": {},
   "source": [
    "## Constants"
   ]
  },
  {
   "cell_type": "markdown",
   "metadata": {},
   "source": [
    "There's not an existing way to declare a constant value in python as in another programming language, hence, maintaining de var name in UPPERCASE is the convention to understand it as a constant."
   ]
  },
  {
   "cell_type": "code",
   "execution_count": 15,
   "metadata": {},
   "outputs": [
    {
     "name": "stdout",
     "output_type": "stream",
     "text": [
      "Keep in mind 'NAME' is the constant value\n"
     ]
    }
   ],
   "source": [
    "NAME = \"Ben\"\n",
    "print(\"Keep in mind 'NAME' is the constant value\")"
   ]
  },
  {
   "cell_type": "code",
   "execution_count": null,
   "metadata": {},
   "outputs": [],
   "source": []
  }
 ],
 "metadata": {
  "kernelspec": {
   "display_name": "Python 3",
   "language": "python",
   "name": "python3"
  },
  "language_info": {
   "codemirror_mode": {
    "name": "ipython",
    "version": 3
   },
   "file_extension": ".py",
   "mimetype": "text/x-python",
   "name": "python",
   "nbconvert_exporter": "python",
   "pygments_lexer": "ipython3",
   "version": "3.9.0"
  }
 },
 "nbformat": 4,
 "nbformat_minor": 2
}
