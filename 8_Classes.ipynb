{
 "cells": [
  {
   "cell_type": "markdown",
   "metadata": {},
   "source": [
    "# Classes"
   ]
  },
  {
   "cell_type": "markdown",
   "metadata": {},
   "source": [
    "## Declaring a class"
   ]
  },
  {
   "cell_type": "code",
   "execution_count": 2,
   "metadata": {},
   "outputs": [
    {
     "name": "stdout",
     "output_type": "stream",
     "text": [
      "<__main__.User object at 0x00000245AACC9190>\n"
     ]
    }
   ],
   "source": [
    "##Declaring a class with 'UpperCamelCase' format\n",
    "## class <ClassName>:\n",
    "\n",
    "class User:\n",
    "    pass\n",
    "\n",
    "cody = User()\n",
    "print(cody)"
   ]
  },
  {
   "cell_type": "code",
   "execution_count": 3,
   "metadata": {},
   "outputs": [],
   "source": [
    "## Attrs of class\n",
    "## Attrs of instances"
   ]
  },
  {
   "cell_type": "code",
   "execution_count": 8,
   "metadata": {},
   "outputs": [
    {
     "name": "stdout",
     "output_type": "stream",
     "text": [
      "User 1\n",
      "tesla@gmail.com\n"
     ]
    }
   ],
   "source": [
    "## Using a class Attribute\n",
    "class User:\n",
    "    ## Attrs of class\n",
    "    username = 'Default'\n",
    "    email = ''\n",
    "\n",
    "User.username = 'User 1'\n",
    "User.email = 'tesla@gmail.com'\n",
    "\n",
    "print(User.username)\n",
    "print(User.email)"
   ]
  },
  {
   "cell_type": "code",
   "execution_count": 25,
   "metadata": {},
   "outputs": [
    {
     "name": "stdout",
     "output_type": "stream",
     "text": [
      "2498263464816\n",
      "2498263464816\n",
      "User 2\n",
      "{}\n"
     ]
    }
   ],
   "source": [
    "## Using an instance Attribute\n",
    "class User:\n",
    "    ## Attrs of class\n",
    "    username = 'User 2'\n",
    "    email = ''\n",
    "\n",
    "# __dict__\n",
    "\n",
    "user2 = User()\n",
    "# 1 Verify whether attributes exists in the object\n",
    "# 2 Verify wheater the attribute exists -> Lectura\n",
    "# 3 Launch an error\n",
    "\n",
    "# Have the same ids\n",
    "print(id(user2.username))\n",
    "print(id(User.username))\n",
    "\n",
    "print(user2.username)\n",
    "print(user2.__dict__) # Dict, we can to know all attributes that the class contains\n"
   ]
  },
  {
   "cell_type": "markdown",
   "metadata": {},
   "source": [
    "## Dynamic attributes"
   ]
  },
  {
   "cell_type": "code",
   "execution_count": 3,
   "metadata": {},
   "outputs": [
    {
     "name": "stdout",
     "output_type": "stream",
     "text": [
      "1920171496240\n",
      "1920190937648\n",
      "Ben\n",
      "{'username': 'Ben', 'password': 1234}\n"
     ]
    }
   ],
   "source": [
    "## Using an instance Attribute\n",
    "class User:\n",
    "    ## Attrs of class\n",
    "    username = 'User 2'\n",
    "    email = ''\n",
    "\n",
    "# __dict__\n",
    "\n",
    "user2 = User()\n",
    "# 1 Verify whether attributes exists in the object\n",
    "# 2 Verify wheater the attribute exists -> Lectura\n",
    "# 3 Launch an error\n",
    "\n",
    "user2.username = 'Ben'\n",
    "user2.password = 1234\n",
    "# Now they dont have the same ids\n",
    "print(id(user2.username)) ## Instance\n",
    "print(id(User.username))  ## Class\n",
    "\n",
    "print(user2.username)\n",
    "print(user2.__dict__) # Dict, we can to know all attributes that the class contains\n"
   ]
  },
  {
   "cell_type": "code",
   "execution_count": 6,
   "metadata": {},
   "outputs": [
    {
     "ename": "AttributeError",
     "evalue": "'User' object has no attribute 'password'",
     "output_type": "error",
     "traceback": [
      "\u001b[1;31m---------------------------------------------------------------------------\u001b[0m",
      "\u001b[1;31mAttributeError\u001b[0m                            Traceback (most recent call last)",
      "Cell \u001b[1;32mIn[6], line 5\u001b[0m\n\u001b[0;32m      1\u001b[0m \u001b[38;5;66;03m## If we want to acces to attribute password, it will throw an error.\u001b[39;00m\n\u001b[0;32m      2\u001b[0m \u001b[38;5;66;03m## This becouse that attribute was added only for another object and \u001b[39;00m\n\u001b[0;32m      3\u001b[0m \u001b[38;5;66;03m## neither is available in the class User \u001b[39;00m\n\u001b[0;32m      4\u001b[0m user3 \u001b[38;5;241m=\u001b[39m User()\n\u001b[1;32m----> 5\u001b[0m \u001b[38;5;28mprint\u001b[39m(\u001b[43muser3\u001b[49m\u001b[38;5;241;43m.\u001b[39;49m\u001b[43mpassword\u001b[49m)\n",
      "\u001b[1;31mAttributeError\u001b[0m: 'User' object has no attribute 'password'"
     ]
    }
   ],
   "source": [
    "## If we want to acces to attribute password, it will throw an error.\n",
    "## This becouse that attribute was added only for another object and \n",
    "## neither is available in the class User \n",
    "user3 = User()\n",
    "print(user3.password)"
   ]
  },
  {
   "cell_type": "markdown",
   "metadata": {},
   "source": [
    "## Methods\n",
    "\n",
    "Defining classes"
   ]
  },
  {
   "cell_type": "code",
   "execution_count": 10,
   "metadata": {},
   "outputs": [
    {
     "name": "stdout",
     "output_type": "stream",
     "text": [
      "{}\n",
      "{}\n"
     ]
    }
   ],
   "source": [
    "## Attrs of class\n",
    "## Attrs of Instance\n",
    "\n",
    "\n",
    "class Users:\n",
    "    ## for considering a method of an object a parameter is needed\n",
    "    def initialise(self): ##parameter self makes reference to the object itself\n",
    "        self.username = ''\n",
    "        self.password = ''\n",
    "\n",
    "user1 = Users()\n",
    "user2 = Users()\n",
    "\n",
    "## When printing dictionary about attributes, there's nothig till method initialise is invoked\n",
    "print(user1.__dict__)\n",
    "print(user2.__dict__)"
   ]
  },
  {
   "cell_type": "code",
   "execution_count": 11,
   "metadata": {},
   "outputs": [
    {
     "name": "stdout",
     "output_type": "stream",
     "text": [
      "{'username': '', 'password': ''}\n",
      "{'username': '', 'password': ''}\n"
     ]
    }
   ],
   "source": [
    "## Attrs of class\n",
    "## Attrs of Instance\n",
    "\n",
    "class Users:\n",
    "    ## for considering a method of an object a parameter is needed\n",
    "    def initialise(self): ##parameter self makes reference to the object itself\n",
    "        self.username = ''\n",
    "        self.password = ''\n",
    "\n",
    "user1 = Users()\n",
    "user2 = Users()\n",
    "\n",
    "# Initialising attributes of the instance\n",
    "user1.initialise()\n",
    "user2.initialise()\n",
    "\n",
    "## Now, when printing dictionary about attribute, attributes are available\n",
    "print(user1.__dict__)\n",
    "print(user2.__dict__)"
   ]
  },
  {
   "cell_type": "code",
   "execution_count": 13,
   "metadata": {},
   "outputs": [
    {
     "name": "stdout",
     "output_type": "stream",
     "text": [
      "{'username': 'Ben', 'password': 123456}\n",
      "{'username': 'John', 'password': 7894}\n"
     ]
    }
   ],
   "source": [
    "class Users:\n",
    "    ## for considering a method of an object a parameter is needed\n",
    "    def initialise(self, username, password): ##parameter self makes reference to the object itself\n",
    "        self.username = username\n",
    "        self.password = password\n",
    "\n",
    "user1 = Users()\n",
    "user2 = Users()\n",
    "\n",
    "# Initialising attributes of the instance\n",
    "user1.initialise('Ben', 123456)\n",
    "user2.initialise('John', 7894)\n",
    "\n",
    "## Now, when printing dictionary about attribute, attributes are available\n",
    "print(user1.__dict__)\n",
    "print(user2.__dict__)"
   ]
  },
  {
   "cell_type": "markdown",
   "metadata": {},
   "source": [
    "## '__init__' Method"
   ]
  },
  {
   "cell_type": "code",
   "execution_count": 20,
   "metadata": {},
   "outputs": [
    {
     "name": "stdout",
     "output_type": "stream",
     "text": [
      "We are creating a user\n",
      "We are creating a user\n",
      "{'username': 'Ben', 'password': 1234}\n",
      "{'username': '', 'password': ''}\n"
     ]
    }
   ],
   "source": [
    "class Users:\n",
    "    \n",
    "    #Object\n",
    "    def __init__(self, username='', password=''): \n",
    "        \n",
    "        print(\"We are creating a user\")\n",
    "        self.username = username\n",
    "        self.password = password\n",
    "\n",
    "user1 = Users('Ben', 1234)\n",
    "user2 = Users()#'Karla', 4567)\n",
    "\n",
    "# Initialising attributes of the instance\n",
    "#user1.initialise('Ben', 123456)\n",
    "#user2.initialise('John', 7894)\n",
    "\n",
    "## Now, when printing dictionary about attribute, attributes are available\n",
    "print(user1.__dict__)\n",
    "print(user2.__dict__)"
   ]
  },
  {
   "cell_type": "markdown",
   "metadata": {},
   "source": [
    "## Heritage"
   ]
  },
  {
   "cell_type": "code",
   "execution_count": 25,
   "metadata": {},
   "outputs": [
    {
     "name": "stdout",
     "output_type": "stream",
     "text": [
      "Pet eats\n",
      "Pet sleeps\n",
      "Pet eats\n",
      "Pet sleeps\n"
     ]
    }
   ],
   "source": [
    "class Pet: # parent class\n",
    "    \n",
    "    def eat(self):\n",
    "        print('Pet eats')\n",
    "\n",
    "    def sleep(self):\n",
    "        print('Pet sleeps')\n",
    "\n",
    "## Class name(parent class):\n",
    "class Dog(Pet):  # child class\n",
    "    pass\n",
    "class Cat(Pet):\n",
    "    pass\n",
    "\n",
    "lana = Dog()\n",
    "lana.eat()\n",
    "lana.sleep()\n",
    "\n",
    "kitty =Cat()\n",
    "kitty.eat()\n",
    "kitty.sleep()"
   ]
  },
  {
   "cell_type": "markdown",
   "metadata": {},
   "source": [
    "## Multiple heritage"
   ]
  },
  {
   "cell_type": "code",
   "execution_count": 29,
   "metadata": {},
   "outputs": [
    {
     "name": "stdout",
     "output_type": "stream",
     "text": [
      "Pet eats\n",
      "Pet sleeps\n",
      "Feline haunts\n"
     ]
    }
   ],
   "source": [
    "class Animal:\n",
    "    pass\n",
    "\n",
    "class Pet(Animal): # parent class\n",
    "    \n",
    "    def eat(self):\n",
    "        print('Pet eats')\n",
    "\n",
    "    def sleep(self):\n",
    "        print('Pet sleeps')\n",
    "\n",
    "## class <Name>(parent class):\n",
    "class Feline:  # child class\n",
    "    \n",
    "    def haunt(self):\n",
    "        print('Feline haunts')\n",
    "\n",
    "\n",
    "class Cat(Pet, Feline): # child multiple class\n",
    "    pass\n",
    "\n",
    "lana = Cat()\n",
    "lana.eat()\n",
    "lana.sleep()\n",
    "lana.haunt()"
   ]
  },
  {
   "cell_type": "code",
   "execution_count": 41,
   "metadata": {},
   "outputs": [
    {
     "name": "stdout",
     "output_type": "stream",
     "text": [
      "Animal eats\n",
      "Pet eats\n",
      "Lana eats\n",
      "Lana sleeps\n",
      "Feline haunts\n"
     ]
    }
   ],
   "source": [
    "## Overwriting methods\n",
    "\n",
    "class Animal:\n",
    "    \n",
    "    def eat(self):\n",
    "        print('Animal eats')\n",
    "\n",
    "    def sleep(self):\n",
    "        print('Animal sleeps')\n",
    "\n",
    "class Pet(Animal): # parent class\n",
    "    #pass\n",
    "    def eat(self):\n",
    "        super().eat()\n",
    "        print(\"Pet eats\")\n",
    "    \n",
    "\n",
    "## class <Name>(parent class):\n",
    "class Feline:  # child class\n",
    "    \n",
    "    def haunt(self):\n",
    "        print('Feline haunts')\n",
    "\n",
    "\n",
    "class Cat(Pet, Feline): # child multiple class\n",
    "    \n",
    "    def __init__(self, name) -> None:\n",
    "        self.name = name\n",
    "    # Executing a method from a higher level with  super()\n",
    "    def eat(self):\n",
    "        super().eat() ## Allows access to methods from a parent class\n",
    "        print(f'{self.name} eats')\n",
    "\n",
    "    def sleep(self):\n",
    "        print(f'{self.name} sleeps')\n",
    "\n",
    "lana = Cat('Lana')\n",
    "lana.eat()\n",
    "lana.sleep()\n",
    "lana.haunt()"
   ]
  },
  {
   "cell_type": "markdown",
   "metadata": {},
   "source": [
    "## Class Methods"
   ]
  },
  {
   "cell_type": "code",
   "execution_count": 47,
   "metadata": {},
   "outputs": [
    {
     "ename": "TypeError",
     "evalue": "area() missing 1 required positional argument: 'radio'",
     "output_type": "error",
     "traceback": [
      "\u001b[1;31m---------------------------------------------------------------------------\u001b[0m",
      "\u001b[1;31mTypeError\u001b[0m                                 Traceback (most recent call last)",
      "Cell \u001b[1;32mIn[47], line 10\u001b[0m\n\u001b[0;32m      6\u001b[0m     \u001b[38;5;28;01mdef\u001b[39;00m \u001b[38;5;21marea\u001b[39m(\u001b[38;5;28mcls\u001b[39m, radio):\n\u001b[0;32m      7\u001b[0m         \u001b[38;5;28;01mreturn\u001b[39;00m \u001b[38;5;28mcls\u001b[39m\u001b[38;5;241m.\u001b[39mpi \u001b[38;5;241m*\u001b[39m (radio\u001b[38;5;241m*\u001b[39m\u001b[38;5;241m*\u001b[39m\u001b[38;5;241m2\u001b[39m)\n\u001b[1;32m---> 10\u001b[0m result \u001b[38;5;241m=\u001b[39m \u001b[43mCircle\u001b[49m\u001b[38;5;241;43m.\u001b[39;49m\u001b[43marea\u001b[49m\u001b[43m(\u001b[49m\u001b[38;5;241;43m14\u001b[39;49m\u001b[43m)\u001b[49m\n",
      "\u001b[1;31mTypeError\u001b[0m: area() missing 1 required positional argument: 'radio'"
     ]
    }
   ],
   "source": [
    "# Executing the class without using @classmethod and instances\n",
    "class Circle:\n",
    "\n",
    "    pi = 3.141592\n",
    "\n",
    "    def area(cls, radio):\n",
    "        return cls.pi * (radio**2)\n",
    "    \n",
    "\n",
    "result = Circle.area(14)\n",
    "## This throws an error because this expression is for an instace"
   ]
  },
  {
   "cell_type": "code",
   "execution_count": 48,
   "metadata": {},
   "outputs": [
    {
     "data": {
      "text/plain": [
       "314.1592"
      ]
     },
     "execution_count": 48,
     "metadata": {},
     "output_type": "execute_result"
    }
   ],
   "source": [
    "# Executing as a instance method\n",
    "class Circle:\n",
    "\n",
    "    pi = 3.141592\n",
    "\n",
    "    def area(cls, radio):\n",
    "        return cls.pi * (radio**2)\n",
    "    \n",
    "\n",
    "result = Circle()\n",
    "result.area(10)"
   ]
  },
  {
   "cell_type": "code",
   "execution_count": 54,
   "metadata": {},
   "outputs": [
    {
     "name": "stdout",
     "output_type": "stream",
     "text": [
      "615.752032\n"
     ]
    }
   ],
   "source": [
    "# Executing as a class method by using @classmethod\n",
    "class Circle:\n",
    "\n",
    "    pi = 3.141592\n",
    "\n",
    "    @classmethod\n",
    "    def area(cls, radio):\n",
    "        return cls.pi * (radio**2)\n",
    "    \n",
    "\n",
    "result = Circle.area(14)\n",
    "print(result)"
   ]
  },
  {
   "cell_type": "code",
   "execution_count": null,
   "metadata": {},
   "outputs": [],
   "source": []
  }
 ],
 "metadata": {
  "kernelspec": {
   "display_name": "Python 3",
   "language": "python",
   "name": "python3"
  },
  "language_info": {
   "codemirror_mode": {
    "name": "ipython",
    "version": 3
   },
   "file_extension": ".py",
   "mimetype": "text/x-python",
   "name": "python",
   "nbconvert_exporter": "python",
   "pygments_lexer": "ipython3",
   "version": "3.9.0"
  }
 },
 "nbformat": 4,
 "nbformat_minor": 2
}
