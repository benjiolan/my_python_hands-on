{
 "cells": [
  {
   "cell_type": "markdown",
   "metadata": {},
   "source": [
    "# Loops and conditions"
   ]
  },
  {
   "cell_type": "markdown",
   "metadata": {},
   "source": [
    "## None\n",
    "None is an option to avoid memory consumption"
   ]
  },
  {
   "cell_type": "code",
   "execution_count": 4,
   "metadata": {},
   "outputs": [
    {
     "name": "stdout",
     "output_type": "stream",
     "text": [
      "None\n",
      "<class 'NoneType'>\n"
     ]
    }
   ],
   "source": [
    "# Declaring a var without a value\n",
    "res = None # It is a kind of False value\n",
    "\n",
    "print(res)\n",
    "print(type(res))"
   ]
  },
  {
   "cell_type": "code",
   "execution_count": 3,
   "metadata": {},
   "outputs": [
    {
     "name": "stdout",
     "output_type": "stream",
     "text": [
      "[1, 2, 3]\n",
      "<class 'list'>\n"
     ]
    }
   ],
   "source": [
    "res = [1, 2, 3]\n",
    "print(res)\n",
    "print(type(res))"
   ]
  },
  {
   "cell_type": "code",
   "execution_count": 5,
   "metadata": {},
   "outputs": [
    {
     "data": {
      "text/plain": [
       "' \\nWay to declare a False value:\\nFalse\\nNone\\n0\\n0.0\\n\\'\\' / \"\"\\n[]\\n()\\n{}\\n'"
      ]
     },
     "execution_count": 5,
     "metadata": {},
     "output_type": "execute_result"
    }
   ],
   "source": [
    "\"\"\" \n",
    "Way to declare a False value:\n",
    "False\n",
    "None\n",
    "0\n",
    "0.0\n",
    "'' / \"\"\n",
    "[]\n",
    "()\n",
    "{}\n",
    "\"\"\""
   ]
  },
  {
   "cell_type": "markdown",
   "metadata": {},
   "source": [
    "## Reserved word 'if' for conditions"
   ]
  },
  {
   "cell_type": "code",
   "execution_count": 13,
   "metadata": {},
   "outputs": [],
   "source": [
    "# Var doesn't meet the condition (False)\n",
    "result = 10\n",
    "\n",
    "#result = result > 10\n",
    "#print(result)\n",
    "\n",
    "if result > 10:\n",
    "    print(\"Var meets the condition\")"
   ]
  },
  {
   "cell_type": "code",
   "execution_count": null,
   "metadata": {},
   "outputs": [],
   "source": [
    "# Var meets the condition (False)\n",
    "result = 10\n",
    "\n",
    "#result = result > 10\n",
    "#print(result)\n",
    "\n",
    "if result > 10:\n",
    "    print(\"Var meets the condition\")"
   ]
  },
  {
   "cell_type": "code",
   "execution_count": 18,
   "metadata": {},
   "outputs": [
    {
     "name": "stdout",
     "output_type": "stream",
     "text": [
      "Var meets the condition\n"
     ]
    }
   ],
   "source": [
    "# Var meets the condition and 'and' logic operator\n",
    "result = 40\n",
    "\n",
    "#result = result > 10\n",
    "#print(result)\n",
    "\n",
    "if result > 10 and result < 50:\n",
    "    print(\"Var meets the condition\")\n",
    "else:\n",
    "    print(\"Condition doesn't meet\")"
   ]
  },
  {
   "cell_type": "code",
   "execution_count": 20,
   "metadata": {},
   "outputs": [
    {
     "name": "stdout",
     "output_type": "stream",
     "text": [
      "Condition doesn't meet the condition\n"
     ]
    }
   ],
   "source": [
    "# Var doesn't meet the condition and 'and' logic operator\n",
    "result = 60\n",
    "\n",
    "#result = result > 10\n",
    "#print(result)\n",
    "\n",
    "if result > 10 and result < 50:\n",
    "    print(\"Var meets the condition\")\n",
    "else:\n",
    "    print(\"Condition doesn't meet the condition\")"
   ]
  },
  {
   "cell_type": "markdown",
   "metadata": {},
   "source": [
    "## Reserved word 'elif' for conditions"
   ]
  },
  {
   "cell_type": "code",
   "execution_count": 22,
   "metadata": {},
   "outputs": [
    {
     "name": "stdout",
     "output_type": "stream",
     "text": [
      "Congrats, you passed the subject\n"
     ]
    }
   ],
   "source": [
    "score = 9\n",
    "\n",
    "if score == 10:\n",
    "    print(\"Congrats, you passed the subject with a great grade\")\n",
    "\n",
    "elif score == 8 or score == 9:\n",
    "    print(\"Congrats, you passed the subject\")\n",
    "\n",
    "elif score == 6 or score == 7:\n",
    "    print(\"You passed the subject\")\n",
    "else:\n",
    "    print(\"My apologies, you failed the subject\")"
   ]
  },
  {
   "cell_type": "markdown",
   "metadata": {},
   "source": [
    "## Creating a web system to show the grades obtained"
   ]
  },
  {
   "cell_type": "code",
   "execution_count": 25,
   "metadata": {},
   "outputs": [
    {
     "name": "stdout",
     "output_type": "stream",
     "text": [
      "10 verde\n"
     ]
    }
   ],
   "source": [
    "#Ternary operator\n",
    "grade = 10\n",
    "color = None\n",
    "\n",
    "if grade >= 7:\n",
    "    color = 'verde'\n",
    "\n",
    "else:\n",
    "    color = 'red'\n",
    "print(grade, color)"
   ]
  },
  {
   "cell_type": "code",
   "execution_count": 26,
   "metadata": {},
   "outputs": [
    {
     "name": "stdout",
     "output_type": "stream",
     "text": [
      "10 green\n"
     ]
    }
   ],
   "source": [
    "# Reducing code lines by a ternary operator\n",
    "grade = 10\n",
    "color = 'green' if grade >= 7 else 'red'\n",
    "print(grade, color)"
   ]
  },
  {
   "cell_type": "markdown",
   "metadata": {},
   "source": [
    "## Assigning values through logic operators"
   ]
  },
  {
   "cell_type": "code",
   "execution_count": 29,
   "metadata": {},
   "outputs": [
    {
     "name": "stdout",
     "output_type": "stream",
     "text": [
      "Code\n"
     ]
    }
   ],
   "source": [
    "#\n",
    "var = 'Code' or \"Codigo\"\n",
    "print(var)"
   ]
  },
  {
   "cell_type": "code",
   "execution_count": 30,
   "metadata": {},
   "outputs": [
    {
     "name": "stdout",
     "output_type": "stream",
     "text": [
      "[]\n"
     ]
    }
   ],
   "source": [
    "## Printing an empty value\n",
    "var = '' or 0 or [] \n",
    "print(var)"
   ]
  },
  {
   "cell_type": "code",
   "execution_count": 33,
   "metadata": {},
   "outputs": [
    {
     "name": "stdout",
     "output_type": "stream",
     "text": [
      "Second option\n"
     ]
    }
   ],
   "source": [
    "# Listing is empty and it becomes False\n",
    "listing = []\n",
    "name = 'Second option'\n",
    "\n",
    "if listing:\n",
    "    var = listing\n",
    "else:\n",
    "    var = name\n",
    "\n",
    "print(var)"
   ]
  },
  {
   "cell_type": "code",
   "execution_count": 35,
   "metadata": {},
   "outputs": [
    {
     "name": "stdout",
     "output_type": "stream",
     "text": [
      "[1, 2]\n"
     ]
    }
   ],
   "source": [
    "# Listing has values and it becomes True\n",
    "listing = [1, 2]\n",
    "name = 'Second option'\n",
    "\n",
    "if listing:\n",
    "    var = listing\n",
    "else:\n",
    "    var = name\n",
    "\n",
    "print(var)"
   ]
  },
  {
   "cell_type": "code",
   "execution_count": 38,
   "metadata": {},
   "outputs": [
    {
     "name": "stdout",
     "output_type": "stream",
     "text": [
      "[1, 2]\n"
     ]
    }
   ],
   "source": [
    "# Listing has values and it becomes True\n",
    "# Reducing lines with the same result\n",
    "listing = [1, 2]\n",
    "name = 'Second option'\n",
    "\n",
    "var = listing or name\n",
    "print(var)"
   ]
  },
  {
   "cell_type": "markdown",
   "metadata": {},
   "source": [
    "## While loop"
   ]
  },
  {
   "cell_type": "code",
   "execution_count": 40,
   "metadata": {},
   "outputs": [
    {
     "name": "stdout",
     "output_type": "stream",
     "text": [
      "1\n",
      "2\n",
      "3\n",
      "4\n",
      "5\n"
     ]
    }
   ],
   "source": [
    "## While loop declaration\n",
    "counter = 1\n",
    "\n",
    "while counter <= 5:\n",
    "    print(counter)\n",
    "\n",
    "    counter += 1"
   ]
  },
  {
   "cell_type": "code",
   "execution_count": 48,
   "metadata": {},
   "outputs": [
    {
     "name": "stdout",
     "output_type": "stream",
     "text": [
      "End of the while loop\n",
      "4\n"
     ]
    }
   ],
   "source": [
    "## Using a while loop with an else clause\n",
    "num = 1234\n",
    "count = 0\n",
    "\n",
    "while num >= 1:\n",
    "    count += 1\n",
    "    #print(count)\n",
    "\n",
    "    num = num / 10\n",
    "    #print(num)\n",
    "else:\n",
    "    print(\"End of the while loop\")\n",
    "    print(count)"
   ]
  },
  {
   "cell_type": "markdown",
   "metadata": {},
   "source": [
    "## Foreach loop"
   ]
  },
  {
   "cell_type": "code",
   "execution_count": 51,
   "metadata": {},
   "outputs": [
    {
     "name": "stdout",
     "output_type": "stream",
     "text": [
      "user 1\n",
      "user 2\n",
      "user 3\n",
      "user 4\n"
     ]
    }
   ],
   "source": [
    "## Using a for loop in a list\n",
    "users = ['user 1', 'user 2', 'user 3', 'user 4']\n",
    "\n",
    "for user in users:\n",
    "    print(user)"
   ]
  },
  {
   "cell_type": "markdown",
   "metadata": {},
   "source": [
    "## Break and continue"
   ]
  },
  {
   "cell_type": "code",
   "execution_count": null,
   "metadata": {},
   "outputs": [],
   "source": [
    "# Implementting a conditional clause and 'break' to stop the for loop\n",
    "title = \"Python professional course\"\n",
    "\n",
    "for character in title:\n",
    "    #print(character)\n",
    "\n",
    "    if character == 'o':\n",
    "        continue\n",
    "        ## All code after continue is not going to be executed\n",
    "    print(character)"
   ]
  },
  {
   "cell_type": "code",
   "execution_count": 59,
   "metadata": {},
   "outputs": [
    {
     "name": "stdout",
     "output_type": "stream",
     "text": [
      "P\n",
      "t\n",
      "h\n",
      "o\n",
      "n\n",
      " \n",
      "p\n",
      "r\n",
      "o\n",
      "f\n",
      "e\n",
      "s\n",
      "s\n",
      "i\n",
      "o\n",
      "n\n",
      "a\n",
      "l\n",
      " \n",
      "c\n",
      "o\n",
      "u\n",
      "r\n",
      "s\n",
      "e\n"
     ]
    }
   ],
   "source": [
    "# Implementting a conditional clause and 'continue' to skip values in the for loop\n",
    "title = \"Python professional course\"\n",
    "\n",
    "for character in title:\n",
    "    #print(character)\n",
    "\n",
    "    if character == 'y':\n",
    "        continue    ## Stops executions and restars to a new loop\n",
    "        ## All code after continue is not going to be executed\n",
    "    print(character)"
   ]
  }
 ],
 "metadata": {
  "kernelspec": {
   "display_name": "Python 3",
   "language": "python",
   "name": "python3"
  },
  "language_info": {
   "codemirror_mode": {
    "name": "ipython",
    "version": 3
   },
   "file_extension": ".py",
   "mimetype": "text/x-python",
   "name": "python",
   "nbconvert_exporter": "python",
   "pygments_lexer": "ipython3",
   "version": "3.9.0"
  }
 },
 "nbformat": 4,
 "nbformat_minor": 2
}
