{
 "cells": [
  {
   "cell_type": "markdown",
   "metadata": {},
   "source": [
    "# Tuples"
   ]
  },
  {
   "cell_type": "markdown",
   "metadata": {},
   "source": [
    "Diferences between a list and a tuple is that a tuple is inmutable, it means, once defined the values, is not possible to change them. It is only possible get a query.\n",
    "\n",
    "A tuple is quicker than list\n"
   ]
  },
  {
   "cell_type": "code",
   "execution_count": 1,
   "metadata": {},
   "outputs": [],
   "source": [
    "## Creating a tuple\n",
    "tuple_ = ()\n",
    "\n",
    "## Other method\n",
    "tuple_ = tuple()"
   ]
  },
  {
   "cell_type": "code",
   "execution_count": 8,
   "metadata": {},
   "outputs": [
    {
     "name": "stdout",
     "output_type": "stream",
     "text": [
      "(12, -15.23, 'String', True, [0, 15.5, -8], (-78, 1000, 58))\n"
     ]
    }
   ],
   "source": [
    "# Declaring a tuple with values. It is possible to add any type of data\n",
    "##        0     1        2       3           4               5      | Indexes\n",
    "tuple_ = (12, -15.23, \"String\", True, [0, 15.5, -8], (-78, 1000, 58))\n",
    "print(tuple_) "
   ]
  },
  {
   "cell_type": "code",
   "execution_count": 11,
   "metadata": {},
   "outputs": [
    {
     "name": "stdout",
     "output_type": "stream",
     "text": [
      "Python\n",
      "Kubernetes\n"
     ]
    }
   ],
   "source": [
    "## For accessing to some value in a tuple, we use index as well as in the list\n",
    "course = ('Python', 'Assembly', 'Django', 'Flask', ' Ruby', 'Java', 'C++', 'C#', 'Docker', 'Kubernetes')\n",
    "\n",
    "first_course = course[0]\n",
    "print(first_course)\n",
    "\n",
    "last_course = course[-1]\n",
    "print(last_course)"
   ]
  },
  {
   "cell_type": "code",
   "execution_count": 13,
   "metadata": {},
   "outputs": [
    {
     "name": "stdout",
     "output_type": "stream",
     "text": [
      "('Python', 'Django', ' Ruby', 'C++', 'Docker')\n"
     ]
    }
   ],
   "source": [
    "## Creating a sub-tuple\n",
    "sub_tuple = course[::2] # Giving a skip value\n",
    "print(sub_tuple)"
   ]
  },
  {
   "cell_type": "markdown",
   "metadata": {},
   "source": [
    "## Lists and tuples"
   ]
  },
  {
   "cell_type": "code",
   "execution_count": 16,
   "metadata": {},
   "outputs": [
    {
     "name": "stdout",
     "output_type": "stream",
     "text": [
      "('Python', 'Django', ' Ruby')\n",
      "<class 'tuple'>\n",
      "['Basic', 'Intermediate', 'Advanced']\n",
      "<class 'list'>\n"
     ]
    }
   ],
   "source": [
    "## Converting data into type\n",
    "course = ['Python', 'Django', ' Ruby']\n",
    "course_tuple = tuple(course)\n",
    "print(course_tuple)\n",
    "print(type(course_tuple))\n",
    "\n",
    "\n",
    "levels = ('Basic', 'Intermediate', 'Advanced')\n",
    "\n",
    "levels_list = list(levels)\n",
    "print(levels_list)\n",
    "print(type(levels_list))\n"
   ]
  },
  {
   "cell_type": "markdown",
   "metadata": {},
   "source": [
    "## Uncompressing"
   ]
  },
  {
   "cell_type": "code",
   "execution_count": null,
   "metadata": {},
   "outputs": [],
   "source": [
    "# Generating a list\n",
    "one, two, three, four = 1, 2, 3, 4\n",
    "\n",
    "print(one)\n",
    "print(two)\n",
    "print(three)\n",
    "print(four)"
   ]
  },
  {
   "cell_type": "code",
   "execution_count": 19,
   "metadata": {},
   "outputs": [],
   "source": [
    "nums = (1, 2, 3, 4) ## tuple\n",
    "\n",
    "one = nums[0]\n",
    "two = nums[1]\n",
    "three = nums[2]\n",
    "four = nums[3]"
   ]
  },
  {
   "cell_type": "code",
   "execution_count": 8,
   "metadata": {},
   "outputs": [
    {
     "name": "stdout",
     "output_type": "stream",
     "text": [
      "1\n",
      "2\n",
      "3\n",
      "4\n"
     ]
    }
   ],
   "source": [
    "# Uncompressing a tuple from a tuple\n",
    "nums = (1, 2, 3, 4) ## tuple\n",
    "one, two, three, four = nums\n",
    "\n",
    "print(one)\n",
    "print(two)\n",
    "print(three)\n",
    "print(four)\n"
   ]
  },
  {
   "cell_type": "code",
   "execution_count": 10,
   "metadata": {},
   "outputs": [
    {
     "name": "stdout",
     "output_type": "stream",
     "text": [
      "1\n",
      "2\n",
      "3\n",
      "4\n",
      "[5, 6, 7, 8, 9, 10]\n"
     ]
    }
   ],
   "source": [
    "#Setting values in a tuple into variables and a list\n",
    "## when the numbers of values in a tuple exceeds the numbers of variables and \n",
    "## we have a list, left values are saved in such list.\n",
    "nums = (1, 2, 3, 4, 5, 6, 7, 8, 9, 10) ## tuple\n",
    "one, two, three, four, *rest_of_values = nums\n",
    "\n",
    "print(one)\n",
    "print(two)\n",
    "print(three)\n",
    "print(four)\n",
    "print(rest_of_values)"
   ]
  },
  {
   "cell_type": "code",
   "execution_count": 12,
   "metadata": {},
   "outputs": [
    {
     "name": "stdout",
     "output_type": "stream",
     "text": [
      "1\n",
      "3\n",
      "4\n",
      "10\n"
     ]
    }
   ],
   "source": [
    "#Sekipping values in a tuple by setting \"_\" at the place of variables declaration\n",
    "# * -> list\n",
    "# _ -> skip values\n",
    "nums = (1, 2, 3, 4, 5, 6, 7, 8, 9, 10) ## tuple\n",
    "one, _, three, four, *_, nine, ten = nums\n",
    "\n",
    "print(one)\n",
    "print(three)\n",
    "print(four)\n",
    "print(ten)"
   ]
  },
  {
   "cell_type": "markdown",
   "metadata": {},
   "source": [
    "## Compressing"
   ]
  },
  {
   "cell_type": "code",
   "execution_count": 23,
   "metadata": {},
   "outputs": [
    {
     "name": "stdout",
     "output_type": "stream",
     "text": [
      "<zip object at 0x0000025B3EE3B940>\n"
     ]
    }
   ],
   "source": [
    "#Compressing into a tuple\n",
    "ls = [1, 2, 3, 4, 5]\n",
    "tuple_= (10, 20, 30, 40 , 50)\n",
    "\n",
    "# -> zip\n",
    "res = zip(tuple_, ls) ## Order depends of who is first\n",
    "#res = tuple(res)\n",
    "print(res)"
   ]
  },
  {
   "cell_type": "code",
   "execution_count": 24,
   "metadata": {},
   "outputs": [
    {
     "name": "stdout",
     "output_type": "stream",
     "text": [
      "((10, 1), (20, 2), (30, 3), (40, 4), (50, 5))\n"
     ]
    }
   ],
   "source": [
    "## Convert previus result into a tuple\n",
    "result = tuple(res)\n",
    "print(result)"
   ]
  },
  {
   "cell_type": "code",
   "execution_count": 25,
   "metadata": {},
   "outputs": [
    {
     "name": "stdout",
     "output_type": "stream",
     "text": [
      "<zip object at 0x0000025B3EE55600>\n",
      "((1, 10, 100, 1000), (2, 20, 200, 2000), (3, 30, 300, 3000), (4, 40, 400, 4000), (5, 50, 500, 5000))\n"
     ]
    }
   ],
   "source": [
    "## Now, the final tuple has 3 values in a sub_tuple\n",
    "ls2 = [100, 200, 300, 400, 500]\n",
    "tuple2 = (1000, 2000, 3000, 4000, 5000)\n",
    "\n",
    "result = zip(ls, tuple_, ls2, tuple2) # ->\n",
    "print(result)\n",
    "\n",
    "result = tuple(result)\n",
    "print(result)"
   ]
  },
  {
   "cell_type": "code",
   "execution_count": 27,
   "metadata": {},
   "outputs": [
    {
     "name": "stdout",
     "output_type": "stream",
     "text": [
      "<zip object at 0x0000025B3EE44500>\n",
      "((1, 10, 100, 1000), (2, 20, 200, 2000), (3, 30, 300, 3000), (4, 40, 400, 4000), (5, 50, 500, 5000))\n"
     ]
    }
   ],
   "source": [
    "## When making a compression from differents sources, the output is fitted to\n",
    "## get the same size of the sources one.\n",
    "ls = [1, 2, 3, 4, 5, 6, 7]\n",
    "tuple_= (10, 20, 30, 40 , 50)\n",
    "ls2 = [100, 200, 300, 400, 500, 700]\n",
    "tuple2 = (1000, 2000, 3000, 4000, 5000)\n",
    "\n",
    "result = zip(ls, tuple_, ls2, tuple2) # ->\n",
    "print(result)\n",
    "\n",
    "result = tuple(result)\n",
    "print(result)"
   ]
  },
  {
   "cell_type": "code",
   "execution_count": null,
   "metadata": {},
   "outputs": [],
   "source": []
  }
 ],
 "metadata": {
  "kernelspec": {
   "display_name": "Python 3",
   "language": "python",
   "name": "python3"
  },
  "language_info": {
   "codemirror_mode": {
    "name": "ipython",
    "version": 3
   },
   "file_extension": ".py",
   "mimetype": "text/x-python",
   "name": "python",
   "nbconvert_exporter": "python",
   "pygments_lexer": "ipython3",
   "version": "3.9.0"
  }
 },
 "nbformat": 4,
 "nbformat_minor": 2
}
