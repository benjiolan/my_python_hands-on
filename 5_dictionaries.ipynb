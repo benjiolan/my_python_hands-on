{
 "cells": [
  {
   "cell_type": "markdown",
   "metadata": {},
   "source": [
    "# Dictionaries"
   ]
  },
  {
   "cell_type": "markdown",
   "metadata": {},
   "source": [
    "## Defining"
   ]
  },
  {
   "cell_type": "code",
   "execution_count": 7,
   "metadata": {},
   "outputs": [
    {
     "name": "stdout",
     "output_type": "stream",
     "text": [
      "{'name': 'George', 'age': 30}\n"
     ]
    }
   ],
   "source": [
    "# First way to declare it\n",
    "dict1 = {'name':'George', 'age':30}\n",
    "print(dict1)"
   ]
  },
  {
   "cell_type": "code",
   "execution_count": 8,
   "metadata": {},
   "outputs": [
    {
     "name": "stdout",
     "output_type": "stream",
     "text": [
      "{'name': 'George', 'age': 30}\n"
     ]
    }
   ],
   "source": [
    "# Second way to declare it\n",
    "dict2 = dict({'name':'George', 'age':30})\n",
    "print(dict2)"
   ]
  },
  {
   "cell_type": "markdown",
   "metadata": {},
   "source": [
    "## Adding values into a dictionary\n",
    "\n",
    "A dictionaty can't have more than one key name. If it occurs, the last value will be saved.\n",
    "\n",
    "A dictionary keeps the same order it was declared"
   ]
  },
  {
   "cell_type": "code",
   "execution_count": 12,
   "metadata": {},
   "outputs": [
    {
     "name": "stdout",
     "output_type": "stream",
     "text": [
      "{'name': 'George', 'age': 30}\n",
      "{'name': 'Michael', 'age': 35}\n"
     ]
    }
   ],
   "source": [
    "## Starting from a empy dictionary\n",
    "elements = {}\n",
    "\n",
    "elements['name'] = 'George'  # <dictionary>['key'] = 'value'. It Creates it\n",
    "elements['age'] = 30\n",
    "print(elements)\n",
    "\n",
    "# if  we declare new key with the same words, it will replace the value.\n",
    "elements['name'] = 'Michael' # It replace it\n",
    "elements['age'] = 35\n",
    "print(elements)"
   ]
  },
  {
   "cell_type": "markdown",
   "metadata": {},
   "source": [
    "## Getting values from a dictionary"
   ]
  },
  {
   "cell_type": "markdown",
   "metadata": {},
   "source": [
    "get()\n",
    "\n",
    "setdefault()"
   ]
  },
  {
   "cell_type": "code",
   "execution_count": 16,
   "metadata": {},
   "outputs": [
    {
     "name": "stdout",
     "output_type": "stream",
     "text": [
      "4\n"
     ]
    },
    {
     "ename": "KeyError",
     "evalue": "'z'",
     "output_type": "error",
     "traceback": [
      "\u001b[1;31m---------------------------------------------------------------------------\u001b[0m",
      "\u001b[1;31mKeyError\u001b[0m                                  Traceback (most recent call last)",
      "Cell \u001b[1;32mIn[16], line 7\u001b[0m\n\u001b[0;32m      4\u001b[0m value \u001b[38;5;241m=\u001b[39m elms[\u001b[38;5;124m'\u001b[39m\u001b[38;5;124md\u001b[39m\u001b[38;5;124m'\u001b[39m]\n\u001b[0;32m      5\u001b[0m \u001b[38;5;28mprint\u001b[39m(value)\n\u001b[1;32m----> 7\u001b[0m value \u001b[38;5;241m=\u001b[39m \u001b[43melms\u001b[49m\u001b[43m[\u001b[49m\u001b[38;5;124;43m'\u001b[39;49m\u001b[38;5;124;43mz\u001b[39;49m\u001b[38;5;124;43m'\u001b[39;49m\u001b[43m]\u001b[49m\n\u001b[0;32m      8\u001b[0m \u001b[38;5;28mprint\u001b[39m(value)\n",
      "\u001b[1;31mKeyError\u001b[0m: 'z'"
     ]
    }
   ],
   "source": [
    "## Reading existing values\n",
    "elms = {'a':1, 'b':2, 'c':3, 'd':4} \n",
    "\n",
    "value = elms['d']\n",
    "print(value)\n",
    "\n",
    "## ## Reading non-existing values and obtainig errors\n",
    "value = elms['z']\n",
    "print(value)"
   ]
  },
  {
   "cell_type": "code",
   "execution_count": 18,
   "metadata": {},
   "outputs": [
    {
     "name": "stdout",
     "output_type": "stream",
     "text": [
      "True\n"
     ]
    }
   ],
   "source": [
    "## Processing the reading of non-existing values\n",
    "elms = {'a':1, 'b':2, 'c':3, 'd':4} \n",
    "\n",
    "print('a' in elms)  #Returns whether the key is in the dictionary or not\n",
    "#value = elms['d']\n",
    "#print(value)"
   ]
  },
  {
   "cell_type": "code",
   "execution_count": 27,
   "metadata": {},
   "outputs": [
    {
     "name": "stdout",
     "output_type": "stream",
     "text": [
      "4\n"
     ]
    }
   ],
   "source": [
    "## Using the get method for a key that exist\n",
    "elmts = {'a':1, 'b':2, 'c':3, 'd':4} \n",
    "\n",
    "value = elmts.get('d', \"The key doesn't exist in the dictionary\")\n",
    "print(value)"
   ]
  },
  {
   "cell_type": "code",
   "execution_count": 30,
   "metadata": {},
   "outputs": [
    {
     "name": "stdout",
     "output_type": "stream",
     "text": [
      "None\n"
     ]
    }
   ],
   "source": [
    "## Using the get method for a key that doesn't exist\n",
    "elmts = {'a':1, 'b':2, 'c':3, 'd':4} \n",
    "# get()\n",
    "\n",
    "value = elmts.get('z', \"The key doesn't exist in the dictionary\")\n",
    "print(value) # The output shows \"None\" or a message whether a text is setted, \n",
    "             #instead of generating an error."
   ]
  },
  {
   "cell_type": "code",
   "execution_count": 37,
   "metadata": {},
   "outputs": [
    {
     "name": "stdout",
     "output_type": "stream",
     "text": [
      "5\n",
      "{'a': 1, 'b': 2, 'c': 3, 'd': 4, 'e': 5}\n"
     ]
    }
   ],
   "source": [
    "## Using the setdefault method for a key that doesn't exist\n",
    "elmts = {'a':1, 'b':2, 'c':3, 'd':4} \n",
    "# setdefault()\n",
    "\n",
    "value = elmts.setdefault('e', 5)\n",
    "print(value) # If the key doesn't exist, it creates a new key with a value setted\n",
    "print(elmts)\n"
   ]
  },
  {
   "cell_type": "markdown",
   "metadata": {},
   "source": [
    "## keys, values and items methods"
   ]
  },
  {
   "cell_type": "code",
   "execution_count": 44,
   "metadata": {},
   "outputs": [
    {
     "name": "stdout",
     "output_type": "stream",
     "text": [
      "('a', 'b', 'c', 'd')\n"
     ]
    }
   ],
   "source": [
    "#keys method obtains and saves all keys from a dictionary\n",
    "elmts = {'a':1, 'b':2, 'c':3, 'd':4}\n",
    "\n",
    "keys_ = tuple(elmts.keys()) # convert to a tuple\n",
    "print(keys_) \n"
   ]
  },
  {
   "cell_type": "code",
   "execution_count": 46,
   "metadata": {},
   "outputs": [
    {
     "name": "stdout",
     "output_type": "stream",
     "text": [
      "(1, 2, 3, 4)\n"
     ]
    }
   ],
   "source": [
    "#values method obtains and saves all values from a dictionary\n",
    "\n",
    "values_ = tuple(elmts.values())\n",
    "print(values_)"
   ]
  },
  {
   "cell_type": "code",
   "execution_count": 48,
   "metadata": {},
   "outputs": [
    {
     "name": "stdout",
     "output_type": "stream",
     "text": [
      "(('a', 1), ('b', 2), ('c', 3), ('d', 4))\n"
     ]
    }
   ],
   "source": [
    "# items method obtains and saves all items from a dictionary into a tuple\n",
    "\n",
    "elements_ = tuple(elmts.items())\n",
    "print(elements_)"
   ]
  },
  {
   "cell_type": "markdown",
   "metadata": {},
   "source": [
    "## Deleting elements"
   ]
  },
  {
   "cell_type": "code",
   "execution_count": 52,
   "metadata": {},
   "outputs": [
    {
     "name": "stdout",
     "output_type": "stream",
     "text": [
      "Then:  4\n",
      "{'b': 2, 'c': 3, 'd': 4}\n",
      "After:  3\n"
     ]
    }
   ],
   "source": [
    "# deleting an element through the reserved word del\n",
    "dic = {'a':1, 'b':2, 'c':3, 'd':4}\n",
    "print(\"Then: \", len(dic))\n",
    "\n",
    "del dic['a']\n",
    "print(dic)\n",
    "print(\"After: \", len(dic))"
   ]
  },
  {
   "cell_type": "code",
   "execution_count": 54,
   "metadata": {},
   "outputs": [
    {
     "name": "stdout",
     "output_type": "stream",
     "text": [
      "4\n",
      "{'a': 1, 'c': 3, 'd': 4}\n",
      "3\n"
     ]
    }
   ],
   "source": [
    "# deleting an element through the pop method\n",
    "dic = {'a':1, 'b':2, 'c':3, 'd':4}\n",
    "print(len(dic))\n",
    "\n",
    "value = dic.pop('b')\n",
    "print(dic)\n",
    "print(len(dic))"
   ]
  },
  {
   "cell_type": "code",
   "execution_count": 56,
   "metadata": {},
   "outputs": [
    {
     "name": "stdout",
     "output_type": "stream",
     "text": [
      "4\n",
      "{}\n",
      "0\n"
     ]
    }
   ],
   "source": [
    "# deleting all elements through the clear method\n",
    "dic = {'a':1, 'b':2, 'c':3, 'd':4}\n",
    "print(len(dic))\n",
    "\n",
    "dic.clear()\n",
    "print(dic)\n",
    "print(len(dic))"
   ]
  },
  {
   "cell_type": "code",
   "execution_count": null,
   "metadata": {},
   "outputs": [],
   "source": []
  }
 ],
 "metadata": {
  "kernelspec": {
   "display_name": "Python 3",
   "language": "python",
   "name": "python3"
  },
  "language_info": {
   "codemirror_mode": {
    "name": "ipython",
    "version": 3
   },
   "file_extension": ".py",
   "mimetype": "text/x-python",
   "name": "python",
   "nbconvert_exporter": "python",
   "pygments_lexer": "ipython3",
   "version": "3.9.0"
  }
 },
 "nbformat": 4,
 "nbformat_minor": 2
}
