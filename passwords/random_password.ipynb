{
 "cells": [
  {
   "cell_type": "code",
   "execution_count": 1,
   "metadata": {},
   "outputs": [],
   "source": [
    "import random"
   ]
  },
  {
   "cell_type": "code",
   "execution_count": 3,
   "metadata": {},
   "outputs": [],
   "source": [
    "# Creating values for the password\n",
    "lower_ = \"abcdefghijklmnñopqrstuvwxyz\"\n",
    "upper_ = \"ABCDEFGHIJKLMNÑOPQRSTUVWXYZ\" # or string.ascii_uppercase\n",
    "numbers_ = \"0123456789\"\n",
    "symbols_ = \"!@#$%^&*()_-+=[]{}|;:,.<>?\"\n",
    "\n",
    "all_ = lower_ + upper_ + numbers_ + symbols_"
   ]
  },
  {
   "cell_type": "code",
   "execution_count": 8,
   "metadata": {},
   "outputs": [
    {
     "name": "stdout",
     "output_type": "stream",
     "text": [
      "Apb[ÑU}ia6xh>\n"
     ]
    }
   ],
   "source": [
    "# Creating the password\n",
    "lenght = 13\n",
    "sample = random.sample(all_, lenght)\n",
    "password = \"\".join(sample)\n",
    "print(password)\n"
   ]
  },
  {
   "cell_type": "code",
   "execution_count": 23,
   "metadata": {},
   "outputs": [
    {
     "name": "stdout",
     "output_type": "stream",
     "text": [
      "}bn[F*LwqX$TE\n",
      "@eÑFjRt6bElWK\n",
      "#N@wb[53dvtTu\n",
      "B!+y<jMC_pO&}\n",
      "n>[!zñvt8y2XL\n",
      "L!Tn=c$jEfh5,\n",
      "-g;5#UA?(lTxP\n",
      "SrAhañ5FG!.8:\n",
      "_[mtEPhuiJF6b\n",
      "xu.DO^p{R+@et\n"
     ]
    }
   ],
   "source": [
    "## Generating a batch of passwords\n",
    "n_passwords = 10\n",
    "array_passwords =[]\n",
    "for _ in range(n_passwords):\n",
    "    sample = random.sample(all_, lenght)\n",
    "    password = \"\".join(sample)\n",
    "    \n",
    "    array_passwords.append(password)\n",
    "    print(password)\n"
   ]
  },
  {
   "cell_type": "code",
   "execution_count": 24,
   "metadata": {},
   "outputs": [
    {
     "data": {
      "text/plain": [
       "['}bn[F*LwqX$TE',\n",
       " '@eÑFjRt6bElWK',\n",
       " '#N@wb[53dvtTu',\n",
       " 'B!+y<jMC_pO&}',\n",
       " 'n>[!zñvt8y2XL',\n",
       " 'L!Tn=c$jEfh5,',\n",
       " '-g;5#UA?(lTxP',\n",
       " 'SrAhañ5FG!.8:',\n",
       " '_[mtEPhuiJF6b',\n",
       " 'xu.DO^p{R+@et']"
      ]
     },
     "execution_count": 24,
     "metadata": {},
     "output_type": "execute_result"
    }
   ],
   "source": [
    "array_passwords"
   ]
  },
  {
   "cell_type": "markdown",
   "metadata": {},
   "source": [
    "### **Encrypting passwords**\n",
    "Werkzeug\n",
    "\n",
    "Encryption is useful to save passwords in a database."
   ]
  },
  {
   "cell_type": "code",
   "execution_count": 31,
   "metadata": {},
   "outputs": [
    {
     "name": "stdout",
     "output_type": "stream",
     "text": [
      "ñ@*Bp.Lw>jnT; ==> scrypt:32768:8:1$ybY3SbGylajZDjVn$72744267523d2624329923a468974b3d21837620706963f2a755c10964ab2df07ebf5eea4444891b18fa37522ca0a5e30a725d04ff5d35da6134008ae1ca91a0\n",
      "arKT[56zt:vDh ==> scrypt:32768:8:1$DoovzjtqVJYKnXM8$dc8492b61b3462df82296857090b4db9687b3cb7ebdcb91194af86b5e72664adb40705d37c36dc67535e13e1b1720941945e4b4c4d58949e827f252e224259e7\n",
      "iOJZ!eoI>;){N ==> scrypt:32768:8:1$KScpd2YKgGLoHhlg$e36a6498d7652b2536b472100951e01507929751c7d0c7f29816fd2efbad4bb80f48c31005ddaccee231e1212078e57dde1a2581a36f88465f70e21dc8d54316\n",
      "%e8Ft9ovRVzS7 ==> scrypt:32768:8:1$oBBq8Nro8nfMEhrT$f58b523de9d119f70cbff3fbb9fa4145dc9a8c3c1706da9e1b14a6128f29dafbfffedcc65269e01b8956df9f1552f8130671d2f7c252927555a0cd1dbbe134fb\n",
      "uO6Bx;{!MG34I ==> scrypt:32768:8:1$yNJOUWT2szfwatnJ$1a7137117a2d22f96228c5ae994aac0bbd13037bb9633db598dd436ab2cc8e703220312f61f1fcbf3d23ded32b5908b76f7491a8a5b09bdf96ca366d0438af43\n",
      "AgU^.LXOvjw}: ==> scrypt:32768:8:1$rDPG7kiierdOirk8$2cad3702a75c3739e9adb52aa9cdba92443abaed7640e1ee6b3b46b592b4b2a284605949e38a6185a82e74d49169235295d381641dc64727a6bd98ab5b217079\n",
      "g*G8KpA(S$C]^ ==> scrypt:32768:8:1$969yWyUqmseJ64ub$3b8851f248e3bf3cc95cabaabda2f87ffe0882daf07f412dc134b56af20a21c48af5e45b60563d903d728b8a219bb1ae2c82da726b06ba27cb78a0c160da9b00\n",
      "x]dhiIT%.buw9 ==> scrypt:32768:8:1$T7a8lJDbt00Bc9tn$d2a52b689a5da0aa743eb4ba13baf129569d02d55748f8f6e9d90111f1ecc3e1a82d537dc257e7d44e217c72ccc0649dbf50861145a312704991e836ff28027f\n",
      ".]q)L|V}!:+?m ==> scrypt:32768:8:1$6EK5qSbj4A5WS4GX$9479e0ad613cabe1ecbb156d362d3f07a649e770a0c0790151e1cbbffb80d49d94535e7953c14b3fd37c3ddd7766fd46d3f5bb40e970c5454ece7f935dc93ab0\n",
      "&s!Le?)Jx,=vE ==> scrypt:32768:8:1$n7y34B8Rt6RJaEAI$90aea701bcc98e408cb851be6798a97c463a0c957469220486c88a0373ed3f109c38cce3941417abfdaccf3460df32c20c36429447f20f5342dcb7f054dca81f\n"
     ]
    }
   ],
   "source": [
    "from werkzeug.security import generate_password_hash, check_password_hash\n",
    "n_passwords = 10\n",
    "array_passwords =[]\n",
    "for _ in range(n_passwords):\n",
    "    sample = random.sample(all_, lenght)\n",
    "    password = \"\".join(sample)\n",
    "    encrypted_password = generate_password_hash(password)\n",
    "    \n",
    "    array_passwords.append(encrypted_password)\n",
    "    print(f\"{password} ==> {encrypted_password}\")\n"
   ]
  }
 ],
 "metadata": {
  "kernelspec": {
   "display_name": ".venv",
   "language": "python",
   "name": "python3"
  },
  "language_info": {
   "codemirror_mode": {
    "name": "ipython",
    "version": 3
   },
   "file_extension": ".py",
   "mimetype": "text/x-python",
   "name": "python",
   "nbconvert_exporter": "python",
   "pygments_lexer": "ipython3",
   "version": "3.9.0"
  }
 },
 "nbformat": 4,
 "nbformat_minor": 2
}
