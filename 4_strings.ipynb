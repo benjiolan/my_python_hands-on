{
 "cells": [
  {
   "cell_type": "markdown",
   "metadata": {},
   "source": [
    "# Strings"
   ]
  },
  {
   "cell_type": "markdown",
   "metadata": {},
   "source": [
    "### Splitting | From long string to a list of strings\n",
    "Method split() with a default separator \"space\""
   ]
  },
  {
   "cell_type": "code",
   "execution_count": 3,
   "metadata": {},
   "outputs": [
    {
     "name": "stdout",
     "output_type": "stream",
     "text": [
      "['Python', 'Ruby', 'Java', 'Rust', 'C++', 'C']\n"
     ]
    }
   ],
   "source": [
    "## String separated by a space\n",
    "languages = \" Python Ruby Java Rust C++ C\"\n",
    "listing = languages.split() # Default sep=' ' \n",
    "print(listing)"
   ]
  },
  {
   "cell_type": "code",
   "execution_count": 4,
   "metadata": {},
   "outputs": [
    {
     "name": "stdout",
     "output_type": "stream",
     "text": [
      "[' Python', 'Ruby', 'Java', 'Rust', 'C++', 'C']\n"
     ]
    }
   ],
   "source": [
    "## String separated by a dash\n",
    "languages = \" Python-Ruby-Java-Rust-C++-C\"\n",
    "listing = languages.split(sep='-') # OR simply ('-') \n",
    "print(listing)"
   ]
  },
  {
   "cell_type": "code",
   "execution_count": 6,
   "metadata": {},
   "outputs": [
    {
     "name": "stdout",
     "output_type": "stream",
     "text": [
      "[' Python', 'Ruby', 'Java', 'Rust-C++-C']\n"
     ]
    }
   ],
   "source": [
    "## String separated by a dash with limited coincidences\n",
    "languages = \" Python-Ruby-Java-Rust-C++-C\"\n",
    "listing = languages.split('-', 3)\n",
    "print(listing)"
   ]
  },
  {
   "cell_type": "markdown",
   "metadata": {},
   "source": [
    "### joining | from a list of string to a long string"
   ]
  },
  {
   "cell_type": "code",
   "execution_count": 10,
   "metadata": {},
   "outputs": [
    {
     "name": "stdout",
     "output_type": "stream",
     "text": [
      "Python Rust C++ Ruby Java\n",
      "<class 'str'>\n"
     ]
    }
   ],
   "source": [
    "## Generating a string\n",
    "ls = [\"Python\", \"Rust\", \"C++\", \"Ruby\", \"Java\"]\n",
    "str_lang = ' '.join(ls)\n",
    "print(str_lang)\n",
    "print(type(str_lang))"
   ]
  },
  {
   "cell_type": "markdown",
   "metadata": {},
   "source": [
    "### Concatenating"
   ]
  },
  {
   "cell_type": "code",
   "execution_count": 25,
   "metadata": {},
   "outputs": [
    {
     "name": "stdout",
     "output_type": "stream",
     "text": [
      "PhD. Mark Stephen Olan.\n"
     ]
    }
   ],
   "source": [
    "## Concatenating strings with '+'\n",
    "name = 'Mark Stephen'\n",
    "surname = 'Olan'\n",
    "\n",
    "full_name = 'PhD. ' + name + ' ' + surname + '.'\n",
    "\n",
    "print(full_name)"
   ]
  },
  {
   "cell_type": "code",
   "execution_count": 26,
   "metadata": {},
   "outputs": [
    {
     "name": "stdout",
     "output_type": "stream",
     "text": [
      "PhD. Mark Stephen Olan.\n"
     ]
    }
   ],
   "source": [
    "## Concatenating strings with %s\n",
    "name = 'Mark Stephen'\n",
    "surname = 'Olan'\n",
    "\n",
    "full_name = 'PhD. %s %s.' %(name, surname)\n",
    "\n",
    "print(full_name)"
   ]
  },
  {
   "cell_type": "code",
   "execution_count": 27,
   "metadata": {},
   "outputs": [
    {
     "name": "stdout",
     "output_type": "stream",
     "text": [
      "PhD. Mark Stephen Olan.\n"
     ]
    }
   ],
   "source": [
    "## Concatenating strings with place holders {}\n",
    "name = 'Mark Stephen'\n",
    "surname = 'Olan'\n",
    "\n",
    "full_name = 'PhD. {} {}.'.format(name, surname)\n",
    "\n",
    "print(full_name)"
   ]
  },
  {
   "cell_type": "code",
   "execution_count": 30,
   "metadata": {},
   "outputs": [
    {
     "name": "stdout",
     "output_type": "stream",
     "text": [
      "PhD. Mark Stephen Olan.\n"
     ]
    }
   ],
   "source": [
    "## Concatenating strings with place holders {} and values in\n",
    "name = 'Mark Stephen'\n",
    "surname = 'Olan'\n",
    "\n",
    "## Variables in the brackets are interchangeable\n",
    "full_name = 'PhD. {name} {surname}.'.format(\n",
    "    name=name,\n",
    "    surname=surname\n",
    ")\n",
    "\n",
    "print(full_name)"
   ]
  },
  {
   "cell_type": "code",
   "execution_count": 31,
   "metadata": {},
   "outputs": [
    {
     "name": "stdout",
     "output_type": "stream",
     "text": [
      "PhD. Mark Stephen Olan.\n"
     ]
    }
   ],
   "source": [
    "## Concatenating strings with f string\n",
    "name = 'Mark Stephen'\n",
    "surname = 'Olan'\n",
    "\n",
    "## Variables in the brackets are interchangeable\n",
    "full_name = f'PhD. {name} {surname}.'\n",
    "\n",
    "print(full_name)"
   ]
  },
  {
   "cell_type": "code",
   "execution_count": 38,
   "metadata": {},
   "outputs": [
    {
     "name": "stdout",
     "output_type": "stream",
     "text": [
      "PhD. Mark Stephen Olan\n"
     ]
    }
   ],
   "source": [
    "## Printing  full name directly on console\n",
    "name = 'Mark Stephen'\n",
    "surname = 'Olan'\n",
    "print('PhD.', name, surname, sep=' ') #By default, print separates each value with a space"
   ]
  },
  {
   "cell_type": "markdown",
   "metadata": {},
   "source": [
    "## Searching for a string within a strings"
   ]
  },
  {
   "cell_type": "code",
   "execution_count": 44,
   "metadata": {},
   "outputs": [
    {
     "name": "stdout",
     "output_type": "stream",
     "text": [
      "8\n"
     ]
    }
   ],
   "source": [
    "# Using the method count()\n",
    "title = \"Professional development in python, using python professional frameworks\"\n",
    "\n",
    "counter = title.count('o')\n",
    "print(counter)"
   ]
  },
  {
   "cell_type": "code",
   "execution_count": 46,
   "metadata": {},
   "outputs": [
    {
     "name": "stdout",
     "output_type": "stream",
     "text": [
      "True\n"
     ]
    }
   ],
   "source": [
    "# Using the reserved word 'in'\n",
    "title = \"Professional development in python, using python professional frameworks\"\n",
    "\n",
    "print('o' in title.lower())"
   ]
  },
  {
   "cell_type": "code",
   "execution_count": 47,
   "metadata": {},
   "outputs": [
    {
     "name": "stdout",
     "output_type": "stream",
     "text": [
      "False\n"
     ]
    }
   ],
   "source": [
    "# Using the reserved words 'not in'\n",
    "title = \"Professional development in python, using python professional frameworks\"\n",
    "\n",
    "print('o' not in title.lower())"
   ]
  },
  {
   "cell_type": "code",
   "execution_count": 49,
   "metadata": {},
   "outputs": [
    {
     "name": "stdout",
     "output_type": "stream",
     "text": [
      "True\n"
     ]
    }
   ],
   "source": [
    "# Filtering by using 'startswith'\n",
    "title = \"Professional development in python, using python professional frameworks\"\n",
    "\n",
    "print(title.startswith('Pro'))"
   ]
  },
  {
   "cell_type": "code",
   "execution_count": 51,
   "metadata": {},
   "outputs": [
    {
     "name": "stdout",
     "output_type": "stream",
     "text": [
      "True\n"
     ]
    }
   ],
   "source": [
    "# Filtering by using 'endswith'\n",
    "title = \"Professional development in python, using python professional frameworks\"\n",
    "\n",
    "print(title.endswith('works'))"
   ]
  },
  {
   "cell_type": "markdown",
   "metadata": {},
   "source": [
    "## Justifying text"
   ]
  },
  {
   "cell_type": "code",
   "execution_count": 76,
   "metadata": {},
   "outputs": [
    {
     "name": "stdout",
     "output_type": "stream",
     "text": [
      "                            PySpark is the Python API for Apache Spark.                             \n"
     ]
    }
   ],
   "source": [
    "msg = \"PySpark is the Python API for Apache Spark.\"# It enables you to perform  real-time, \\nlarge-scale data processing in a distributed environment using Python.\"\n",
    "# rjust -> Justify to the right\n",
    "# ljust -> Justify to the left\n",
    "# center -> Center\n",
    "msg = msg.center(100) #arg required to set the number of spaces\n",
    "print(msg)"
   ]
  },
  {
   "cell_type": "code",
   "execution_count": null,
   "metadata": {},
   "outputs": [],
   "source": []
  }
 ],
 "metadata": {
  "kernelspec": {
   "display_name": "Python 3",
   "language": "python",
   "name": "python3"
  },
  "language_info": {
   "codemirror_mode": {
    "name": "ipython",
    "version": 3
   },
   "file_extension": ".py",
   "mimetype": "text/x-python",
   "name": "python",
   "nbconvert_exporter": "python",
   "pygments_lexer": "ipython3",
   "version": "3.9.0"
  }
 },
 "nbformat": 4,
 "nbformat_minor": 2
}
