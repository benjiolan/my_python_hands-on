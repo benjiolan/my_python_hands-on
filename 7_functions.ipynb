{
 "cells": [
  {
   "cell_type": "markdown",
   "metadata": {},
   "source": [
    "## Use of functions\n",
    "\n",
    "It is necessary implementing the convention use know as snake_case"
   ]
  },
  {
   "cell_type": "markdown",
   "metadata": {},
   "source": [
    "### Basic structure"
   ]
  },
  {
   "cell_type": "code",
   "execution_count": 1,
   "metadata": {},
   "outputs": [
    {
     "name": "stdout",
     "output_type": "stream",
     "text": [
      "Result is:  299\n"
     ]
    }
   ],
   "source": [
    "# Defining a basic function\n",
    "def suma():\n",
    "    num1 = int(input('Type the first int number: '))\n",
    "    num2 = int(input('Type the second int number: '))\n",
    "    print(\"Result is: \", num1 + num2)\n",
    "suma() # Invoking the function "
   ]
  },
  {
   "cell_type": "markdown",
   "metadata": {},
   "source": [
    "### Parameters"
   ]
  },
  {
   "cell_type": "code",
   "execution_count": 2,
   "metadata": {},
   "outputs": [
    {
     "name": "stdout",
     "output_type": "stream",
     "text": [
      "Result is:  462\n"
     ]
    }
   ],
   "source": [
    "# Defining a function with parameters\n",
    "def suma(number1, number2):\n",
    "    print(\"Result is: \", number1 + number2)\n",
    "\n",
    "num1 = int(input('Type the first int number: '))\n",
    "num2 = int(input('Type the second int number: '))\n",
    "suma(num1, num2) # Invoking the function "
   ]
  },
  {
   "cell_type": "markdown",
   "metadata": {},
   "source": [
    "### Returning values from a function"
   ]
  },
  {
   "cell_type": "code",
   "execution_count": 3,
   "metadata": {},
   "outputs": [
    {
     "data": {
      "text/plain": [
       "50"
      ]
     },
     "execution_count": 3,
     "metadata": {},
     "output_type": "execute_result"
    }
   ],
   "source": [
    "# Returning one value from a function by using return\n",
    "def suma(number1, number2):\n",
    "    return number1 + number2\n",
    "\n",
    "num1 = 10 #int(input('Type the first int number: '))\n",
    "num2 = 40 #int(input('Type the second int number: '))\n",
    "suma(num1, num2) # Invoking the function "
   ]
  },
  {
   "cell_type": "code",
   "execution_count": 4,
   "metadata": {},
   "outputs": [
    {
     "data": {
      "text/plain": [
       "(50, '50')"
      ]
     },
     "execution_count": 4,
     "metadata": {},
     "output_type": "execute_result"
    }
   ],
   "source": [
    "# Returning more values from a function by using return\n",
    "def suma(number1, number2):\n",
    "    return number1 + number2, str(number1+number2)\n",
    "\n",
    "num1 = 10 #int(input('Type the first int number: '))\n",
    "num2 = 40 #int(input('Type the second int number: '))\n",
    "number_value, number_string =  suma(num1, num2) # Invoking the function\n",
    "number_value, number_string"
   ]
  },
  {
   "cell_type": "code",
   "execution_count": 5,
   "metadata": {},
   "outputs": [
    {
     "data": {
      "text/plain": [
       "50"
      ]
     },
     "execution_count": 5,
     "metadata": {},
     "output_type": "execute_result"
    }
   ],
   "source": [
    "# Skipping values from return\n",
    "def suma(number1, number2):\n",
    "    return number1 + number2, str(number1+number2)\n",
    "\n",
    "num1 = 10 #int(input('Type the first int number: '))\n",
    "num2 = 40 #int(input('Type the second int number: '))\n",
    "number_value, _ =  suma(num1, num2) # Saving one value and skipping the another one\n",
    "number_value"
   ]
  },
  {
   "cell_type": "markdown",
   "metadata": {},
   "source": [
    "### Using optional parameters"
   ]
  },
  {
   "cell_type": "code",
   "execution_count": 6,
   "metadata": {},
   "outputs": [
    {
     "name": "stdout",
     "output_type": "stream",
     "text": [
      "1256.0\n"
     ]
    }
   ],
   "source": [
    "# Skipping the second parameter (optional)\n",
    "def area_circle(radio, pi=3.14): # Don't use spaces for assigning to optional values\n",
    "    return pi * radio**2\n",
    "\n",
    "result  = area_circle(20)\n",
    "print(result)"
   ]
  },
  {
   "cell_type": "code",
   "execution_count": 7,
   "metadata": {},
   "outputs": [
    {
     "name": "stdout",
     "output_type": "stream",
     "text": [
      "1256.6368\n"
     ]
    }
   ],
   "source": [
    "# Using the second parameter (optional)\n",
    "def area_circle(radio, pi=3.14): # Don't use spaces for assigning to optional values\n",
    "    return pi * radio**2\n",
    "\n",
    "result  = area_circle(20, 3.141592)\n",
    "print(result)"
   ]
  },
  {
   "cell_type": "code",
   "execution_count": 8,
   "metadata": {},
   "outputs": [
    {
     "name": "stdout",
     "output_type": "stream",
     "text": [
      "1256.6368\n"
     ]
    }
   ],
   "source": [
    "# Assigning direct to function values(optional)\n",
    "def area_circle(radio, pi=3.14): # Don't use spaces for assigning to optional values\n",
    "    return pi * radio**2\n",
    "\n",
    "result  = area_circle(radio=20, pi=3.141592)\n",
    "print(result)"
   ]
  },
  {
   "cell_type": "markdown",
   "metadata": {},
   "source": [
    "### *Args in a function"
   ]
  },
  {
   "cell_type": "code",
   "execution_count": 9,
   "metadata": {},
   "outputs": [
    {
     "data": {
      "text/plain": [
       "26.5"
      ]
     },
     "execution_count": 9,
     "metadata": {},
     "output_type": "execute_result"
    }
   ],
   "source": [
    "# Using a list as parameter\n",
    "def avg(list):\n",
    "    return sum(list)/len(list)\n",
    "\n",
    "res = avg([12,10,6,78])\n",
    "res"
   ]
  },
  {
   "cell_type": "code",
   "execution_count": 14,
   "metadata": {},
   "outputs": [
    {
     "name": "stdout",
     "output_type": "stream",
     "text": [
      "(12, 10, 6, 78)\n",
      "<class 'tuple'>\n"
     ]
    },
    {
     "data": {
      "text/plain": [
       "26.5"
      ]
     },
     "execution_count": 14,
     "metadata": {},
     "output_type": "execute_result"
    }
   ],
   "source": [
    "# Passing many parameters without a list\n",
    "def avg(*args): # By convention, this argument should be called *args\n",
    "    print(args)\n",
    "    print(type(args))\n",
    "    return sum(args)/len(args)\n",
    "\n",
    "res = avg(12,10,6,78)\n",
    "res"
   ]
  },
  {
   "cell_type": "code",
   "execution_count": 16,
   "metadata": {},
   "outputs": [
    {
     "name": "stdout",
     "output_type": "stream",
     "text": [
      "12\n",
      "10\n",
      "(6, 78, 1000)\n",
      "500\n"
     ]
    },
    {
     "data": {
      "text/plain": [
       "361.3333333333333"
      ]
     },
     "execution_count": 16,
     "metadata": {},
     "output_type": "execute_result"
    }
   ],
   "source": [
    "# Passing individual parameters and *args parameter\n",
    "def combination(p1, p2, *args, p3=500):\n",
    "    print(p1)\n",
    "    print(p2)\n",
    "    print(args)\n",
    "    print(p3)\n",
    "    return sum(args)/len(args)\n",
    "\n",
    "re = combination(12,10,6,78,1000)\n",
    "re"
   ]
  },
  {
   "cell_type": "markdown",
   "metadata": {},
   "source": [
    "### **kwargs in a function"
   ]
  },
  {
   "cell_type": "code",
   "execution_count": 17,
   "metadata": {},
   "outputs": [
    {
     "name": "stdout",
     "output_type": "stream",
     "text": [
      "{'Ben': [10, 10, 9], 'Pato': [10, 9, 9]}\n",
      "<class 'dict'>\n"
     ]
    }
   ],
   "source": [
    "# kwargs allows to use dictionaries as parameters\n",
    "def users(**kwargs):\n",
    "    print(kwargs)\n",
    "    print(type(kwargs))\n",
    "\n",
    "users(Ben=[10,10,9], Pato=[10,9,9])"
   ]
  },
  {
   "cell_type": "code",
   "execution_count": 18,
   "metadata": {},
   "outputs": [
    {
     "name": "stdout",
     "output_type": "stream",
     "text": [
      "(1, 2, 3, 4, 5, 6)\n",
      "{'language': 'python', 'IDE': 'VSC'}\n"
     ]
    }
   ],
   "source": [
    "#combining *args and **kwargs\n",
    "def combine(*args, **kwargs):\n",
    "    print(args)\n",
    "    print(kwargs)\n",
    "combine(1,2,3,4,5,6, language='python', IDE='VSC')"
   ]
  },
  {
   "cell_type": "markdown",
   "metadata": {},
   "source": [
    "### Scope"
   ]
  },
  {
   "cell_type": "code",
   "execution_count": 22,
   "metadata": {},
   "outputs": [
    {
     "name": "stdout",
     "output_type": "stream",
     "text": [
      "Lion\n"
     ]
    }
   ],
   "source": [
    "# Variables declared in a function are available locally \n",
    "animal = 'Lion' ## Global variable -> Function, loops, if\n",
    "\n",
    "\n",
    "def print_animal():\n",
    "    #animal = 'Cat' #Local variable\n",
    "    global animal\n",
    "    print(animal)\n",
    "\n",
    "print_animal()"
   ]
  },
  {
   "cell_type": "markdown",
   "metadata": {},
   "source": [
    "### Nested functions"
   ]
  },
  {
   "cell_type": "code",
   "execution_count": 39,
   "metadata": {},
   "outputs": [
    {
     "name": "stdout",
     "output_type": "stream",
     "text": [
      "30\n",
      "None\n"
     ]
    }
   ],
   "source": [
    "## Nested functions without parameters\n",
    "def operation1():\n",
    "    \n",
    "    def deposit(quantity, balance):\n",
    "        return quantity + balance\n",
    "\n",
    "    def withdraw(quantity, balance):\n",
    "        if quantity <= balance:\n",
    "            return balance - quantity\n",
    "        else:\n",
    "            return None\n",
    "    print(deposit(10, 20))\n",
    "    print(withdraw(50, 20))\n",
    "\n",
    "operation1()"
   ]
  },
  {
   "cell_type": "code",
   "execution_count": 43,
   "metadata": {},
   "outputs": [
    {
     "name": "stdout",
     "output_type": "stream",
     "text": [
      "90\n"
     ]
    }
   ],
   "source": [
    "## Nested functions with parameters in the principal\n",
    "def operation1(quantity, balance, type='deposit'):\n",
    "    \n",
    "    def deposit(quantity, balance):\n",
    "        return quantity + balance\n",
    "\n",
    "    def withdraw(quantity, balance):\n",
    "        if quantity <= balance:\n",
    "            return balance - quantity\n",
    "        else:\n",
    "            return None\n",
    "    if type == 'deposit':\n",
    "        return deposit(quantity, balance)\n",
    "    elif type== 'withdraw':\n",
    "        return withdraw(quantity, balance)\n",
    "\n",
    "print(operation1(40, 50, 'deposit'))"
   ]
  },
  {
   "cell_type": "markdown",
   "metadata": {},
   "source": [
    "### Functions as citizens of first class\n",
    "\n",
    "Functions are citizens of first order, it means that can be assigned to variables, used as a parameter in another function and even functions might return funcions"
   ]
  },
  {
   "cell_type": "code",
   "execution_count": 44,
   "metadata": {},
   "outputs": [
    {
     "name": "stdout",
     "output_type": "stream",
     "text": [
      "50.0\n"
     ]
    }
   ],
   "source": [
    "## Function used as a parameter in another function\n",
    "def celsius_to_farehnheit(degree):\n",
    "    return degree * 1.8 + 32\n",
    "\n",
    "print(celsius_to_farehnheit(10))"
   ]
  },
  {
   "cell_type": "code",
   "execution_count": 47,
   "metadata": {},
   "outputs": [
    {
     "name": "stdout",
     "output_type": "stream",
     "text": [
      "<class 'function'>\n",
      "50.0  °F\n"
     ]
    }
   ],
   "source": [
    "## Function can be assigned to a variable\n",
    "def celsius_to_farehnheit(degree):\n",
    "    return degree * 1.8 + 32\n",
    "\n",
    "C_to_F = celsius_to_farehnheit\n",
    "\n",
    "print(type(celsius_to_farehnheit))\n",
    "print(C_to_F(10), \" °F\")"
   ]
  },
  {
   "cell_type": "markdown",
   "metadata": {},
   "source": [
    "## Lambda functions"
   ]
  },
  {
   "cell_type": "code",
   "execution_count": 49,
   "metadata": {},
   "outputs": [
    {
     "name": "stdout",
     "output_type": "stream",
     "text": [
      "122.0 °F\n"
     ]
    }
   ],
   "source": [
    "## lambda <parameters> : <function's body>\n",
    "func_degrees = lambda parameter1 : parameter1 * 1.8 + 32\n",
    "#consuming lambda function\n",
    "print(func_degrees(50), '°F')"
   ]
  },
  {
   "cell_type": "code",
   "execution_count": null,
   "metadata": {},
   "outputs": [],
   "source": [
    "\"\"\"\n",
    "no_parameters = lambda : True\n",
    "default_parameters = lambda p1=10, p2=14 : p1 + p2\n",
    "asterisk = lambda *args, **kwargs : len(args) + len(kwargs)\n",
    "\"\"\""
   ]
  },
  {
   "cell_type": "markdown",
   "metadata": {},
   "source": [
    "### Callbacks"
   ]
  },
  {
   "cell_type": "code",
   "execution_count": 2,
   "metadata": {},
   "outputs": [
    {
     "name": "stdout",
     "output_type": "stream",
     "text": [
      "9.25\n",
      "True\n",
      "Contratulations, you've got 9.4\n"
     ]
    }
   ],
   "source": [
    "average = lambda *args : sum(args) / len(args)\n",
    "approving = lambda calif : calif >= 7\n",
    "#print(average(10, 10, 8, 9))\n",
    "#print(approving(51))\n",
    "\n",
    "def show_msg(avg, approved, *args ):\n",
    "    average_var = avg(*args)\n",
    "\n",
    "    if approved(average_var):\n",
    "        print(f\"Contratulations, you've got {average_var}\")\n",
    "\n",
    "    else:\n",
    "        print(\"You did not pass the class\")\n",
    "\n",
    "show_msg(average, approving, 10, 9, 10, 8, 10)\n"
   ]
  },
  {
   "cell_type": "markdown",
   "metadata": {},
   "source": [
    "### Remembering the use of non local variables\n",
    "Nested function and scopes of variables"
   ]
  },
  {
   "cell_type": "markdown",
   "metadata": {},
   "source": [
    "As we are seeing, global variables are elegible to be read inside blocks.\n",
    "Variables creates inside a block are destructed after finishing execution."
   ]
  },
  {
   "cell_type": "code",
   "execution_count": 14,
   "metadata": {},
   "outputs": [
    {
     "name": "stdout",
     "output_type": "stream",
     "text": [
      "a\n",
      "value changing\n",
      "b id created in nested_funct(): 1381331146224\n",
      "e\n",
      "b id created in principal_funct():  1381233853552\n"
     ]
    }
   ],
   "source": [
    "# Remembering about nested functions and scopes of variables\n",
    "e = 'e' # Global variable declared\n",
    "\n",
    "def principal_funct():\n",
    "    a = 'a'     ## Local variables\n",
    "    b = 'b'\n",
    "    def nested_funct():\n",
    "        c = 'c' ## Local variables\n",
    "        b = 'value changing'\n",
    "        print(a)  ## These variables are capables of reaching a sub-block\n",
    "        print(b)  ## becouse they've been created in a upper block\n",
    "        print(\"b id created in nested_funct():\", id(b))\n",
    "\n",
    "        print(e)  ## This is a global variable\n",
    "\n",
    "    nested_funct()\n",
    "    #print(c)\n",
    "    print(\"b id created in principal_funct(): \", id(b))\n",
    "\n",
    "\n",
    "principal_funct()"
   ]
  },
  {
   "cell_type": "markdown",
   "metadata": {},
   "source": [
    "If a change of variable value is required, it is necessary to add the reserved word \"nonlocal\" before invoking such variable. The ids showed are identical for b"
   ]
  },
  {
   "cell_type": "code",
   "execution_count": 16,
   "metadata": {},
   "outputs": [
    {
     "name": "stdout",
     "output_type": "stream",
     "text": [
      "a\n",
      "value changing\n",
      "b id created in nested_funct(): 1381309791152\n",
      "e\n",
      "b id created in principal_funct():  1381309791152\n"
     ]
    }
   ],
   "source": [
    "# Modifing a global variable inside a block of nested functions\n",
    "e = 'e' # Global variable declared\n",
    "\n",
    "def principal_funct():\n",
    "    a = 'a'     ## Local variables\n",
    "    b = 'b'\n",
    "    def nested_funct():\n",
    "        c = 'c' ## Local variables\n",
    "        nonlocal b\n",
    "        b = 'value changing'\n",
    "        print(a)  ## These variables are capables of reaching a sub-block\n",
    "        print(b)  ## becouse they've been created in a upper block\n",
    "        print(\"b id created in nested_funct():\", id(b))\n",
    "\n",
    "        print(e)  ## This is a global variable\n",
    "\n",
    "    nested_funct()\n",
    "    #print(c)\n",
    "    print(\"b id created in principal_funct(): \", id(b))\n",
    "\n",
    "\n",
    "principal_funct()"
   ]
  },
  {
   "cell_type": "markdown",
   "metadata": {},
   "source": [
    "### Returning functions"
   ]
  },
  {
   "cell_type": "code",
   "execution_count": 23,
   "metadata": {},
   "outputs": [
    {
     "name": "stdout",
     "output_type": "stream",
     "text": [
      "<function say_hello.<locals>.show_ms at 0x000001419C89A3A0>\n",
      "<class 'function'>\n"
     ]
    }
   ],
   "source": [
    "def say_hello():\n",
    "\n",
    "    def show_ms():\n",
    "        print(\"Hello, welcome to python course\")\n",
    "\n",
    "    return show_ms\n",
    "\n",
    "response = say_hello()\n",
    "print(response)\n",
    "print(type(response))"
   ]
  },
  {
   "cell_type": "markdown",
   "metadata": {},
   "source": [
    "### Closures\n",
    "Variables created \n",
    "A function that returns another function and latter uses the locals variables declared in the upper fucntions."
   ]
  },
  {
   "cell_type": "code",
   "execution_count": 25,
   "metadata": {},
   "outputs": [
    {
     "name": "stdout",
     "output_type": "stream",
     "text": [
      "Hello Ben\n"
     ]
    }
   ],
   "source": [
    "def say_hello(username):\n",
    "    msg = f\"Hello {username}\" # Local Variable\n",
    "\n",
    "    def show_ms(): # Nested\n",
    "        print(msg)\n",
    "\n",
    "    return show_ms\n",
    "\n",
    "username = \"Ben\"\n",
    "response = say_hello(username)\n",
    "response()"
   ]
  },
  {
   "cell_type": "markdown",
   "metadata": {},
   "source": [
    "### Decoradores"
   ]
  },
  {
   "cell_type": "code",
   "execution_count": 38,
   "metadata": {},
   "outputs": [
    {
     "name": "stdout",
     "output_type": "stream",
     "text": [
      "Here is the function C\n",
      "Before the invoking\n",
      "Hello, this is a function\n",
      "After invoking\n",
      "Here is the function C\n",
      "Before the invoking\n",
      "15\n",
      "After invoking\n"
     ]
    }
   ],
   "source": [
    "\"\"\"\n",
    "A -> Principal function (Decorator)\n",
    "B -> Function to decorate\n",
    "C -> Decotared function\n",
    "\n",
    "A(B) -> C\n",
    "\"\"\"\n",
    "\n",
    "def funct_A(funct_B):\n",
    "    \n",
    "    def funct_C():\n",
    "        print(\"Here is the function C\")\n",
    "        print(\"Before the invoking\")\n",
    "        funct_B()\n",
    "        print(\"After invoking\")\n",
    "        \n",
    "    return funct_C\n",
    "\n",
    "@funct_A\n",
    "def hello():\n",
    "    print(\"Hello, this is a function\")\n",
    "\n",
    "hello()\n",
    "\n",
    "@funct_A\n",
    "def sum_vars():\n",
    "    print(10 + 5)\n",
    "\n",
    "sum_vars()"
   ]
  },
  {
   "cell_type": "code",
   "execution_count": 48,
   "metadata": {},
   "outputs": [
    {
     "name": "stdout",
     "output_type": "stream",
     "text": [
      "Before the invoking\n",
      "After invoking\n",
      "7\n"
     ]
    }
   ],
   "source": [
    "# When functions have parameters\n",
    "\n",
    "def funct_A(funct_B):\n",
    "    \n",
    "    def funct_C(*args, **kwargs):   # When passing parameters in the funcion\n",
    "        print(\"Before the invoking\")\n",
    "        result = funct_B(*args, **kwargs) # It is necessary to add paramater as well\n",
    "        print(\"After invoking\")\n",
    "        return result\n",
    "        \n",
    "    return funct_C\n",
    "\n",
    "@funct_A\n",
    "def sum_vars(num_1, num_2):\n",
    "    return num_1 + num_2\n",
    "\n",
    "resu = sum_vars(2, 5)\n",
    "print(resu)"
   ]
  },
  {
   "cell_type": "markdown",
   "metadata": {},
   "source": [
    "### Generators\n",
    "Are a sort of special function that returns objects we can iterate easily before a function ends."
   ]
  },
  {
   "cell_type": "code",
   "execution_count": 64,
   "metadata": {},
   "outputs": [
    {
     "name": "stdout",
     "output_type": "stream",
     "text": [
      "<generator object even_num at 0x000001419DF10E40>\n",
      "<generator object even_num at 0x000001419DF10E40>\n"
     ]
    }
   ],
   "source": [
    "# Creating a generator by replacing return by yield\n",
    "def even_num():  #Generator -> LAzy iterator\n",
    "    for num in range(0, 10, 2):\n",
    "        yield num  #Replace 'return' by 'yield'\n",
    "        print(\"Msg after yield\") ##It is not possible to execute a line after a return\n",
    "print(even_num())\n",
    "\n",
    "\"\"\"\n",
    "for even in even_num():\n",
    "    print(even)\n",
    "\"\"\"\n",
    "exit = even_num()\n",
    "print(exit)"
   ]
  },
  {
   "cell_type": "markdown",
   "metadata": {},
   "source": [
    "### Lazy iterations\n",
    "\n",
    "It has advantages by saving memory and making use when necessary.\n",
    "Incrementig the performance of executions."
   ]
  },
  {
   "cell_type": "code",
   "execution_count": 73,
   "metadata": {},
   "outputs": [
    {
     "name": "stdout",
     "output_type": "stream",
     "text": [
      "0\n",
      "Msg after yield\n",
      "2\n",
      "Msg after yield\n",
      "4\n",
      "Msg after yield\n",
      "6\n",
      "Msg after yield\n",
      "8\n"
     ]
    }
   ],
   "source": [
    "# Implementations about generators\n",
    "def even_num():  #Generator -> LAzy iterator\n",
    "    for num in range(0, 10, 2):\n",
    "        yield num  # Function pause execution\n",
    "        print(\"Msg after yield\") \n",
    "\n",
    "generator = even_num()\n",
    "\n",
    "print(next(generator))\n",
    "print(next(generator))\n",
    "print(next(generator))\n",
    "print(next(generator))\n",
    "print(next(generator))"
   ]
  },
  {
   "cell_type": "markdown",
   "metadata": {},
   "source": [
    "if the number of 'next()' executions exceeds the values of the function, the output will generate an error.\n",
    "We can handle error by using handlings exeptions"
   ]
  },
  {
   "cell_type": "code",
   "execution_count": 75,
   "metadata": {},
   "outputs": [
    {
     "name": "stdout",
     "output_type": "stream",
     "text": [
      "0\n",
      "Resuming execution\n",
      "2\n",
      "Resuming execution\n",
      "4\n",
      "Resuming execution\n",
      "6\n",
      "Resuming execution\n",
      "8\n",
      "Resuming execution\n",
      "The geterator ended\n"
     ]
    }
   ],
   "source": [
    "# Implementations about generators\n",
    "def even_num():  #Generator -> LAzy iterator\n",
    "    for num in range(0, 10, 2):\n",
    "        yield num  # Function pause execution\n",
    "        print(\"Resuming execution\") \n",
    "\n",
    "generator = even_num()\n",
    "\n",
    "while True:\n",
    "    try: \n",
    "        even = next(generator)\n",
    "        print(even)\n",
    "    except StopIteration:\n",
    "        print(\"The geterator ended\")\n",
    "        break\n"
   ]
  },
  {
   "cell_type": "markdown",
   "metadata": {},
   "source": [
    "### Documentation"
   ]
  },
  {
   "cell_type": "markdown",
   "metadata": {},
   "source": [
    "When programming, a helpful practice should be the fact of creating a \"DocString\". It means that we might add a comment on top of the body of a function."
   ]
  },
  {
   "cell_type": "code",
   "execution_count": 80,
   "metadata": {},
   "outputs": [
    {
     "name": "stdout",
     "output_type": "stream",
     "text": [
      "Help on function sum_funct in module __main__:\n",
      "\n",
      "sum_funct(nm1, nm2)\n",
      "    This function performs a sum of two numbers\n",
      "    args:\n",
      "    nm1 (int)\n",
      "    nm2 (int)\n",
      "    \n",
      "    Returns the sum of the parameters\n",
      "    TODO:\n",
      "        *\n",
      "\n",
      "None\n"
     ]
    }
   ],
   "source": [
    "#Docstring\n",
    "# __doc__ (Modules, Class, Methods and functions)\n",
    "def sum_funct(nm1, nm2):\n",
    "    \"\"\"\n",
    "    This function performs a sum of two numbers\n",
    "    args:\n",
    "    nm1 (int)\n",
    "    nm2 (int)\n",
    "\n",
    "    Returns the sum of the parameters\n",
    "    TODO:\n",
    "        *\n",
    "    \"\"\"\n",
    "    return nm1 + nm2\n",
    "\n",
    "\n",
    "## The (<object>.__doc__) returns the comment generated in the functions\n",
    "print(sum_funct.__doc__)\n",
    "#print(help(sum_funct))"
   ]
  },
  {
   "cell_type": "markdown",
   "metadata": {},
   "source": [
    "### Testing\n",
    "It is possible to test the behaviour of a function just by using its generated documentation "
   ]
  },
  {
   "cell_type": "code",
   "execution_count": 85,
   "metadata": {},
   "outputs": [],
   "source": [
    "#Docstring\n",
    "# __doc__ (Modules, Class, Methods and functions)\n",
    "\n",
    "# Typing the next syntax can help to test the behaviour of the function\n",
    "# >>> function(val1, val2)\n",
    "# 30\n",
    "import doctest\n",
    "\n",
    "def sum_funct(nm1, nm2):\n",
    "    \"\"\"\n",
    "    This function performs a sum of two numbers\n",
    "    args:\n",
    "    nm1 (int)\n",
    "    nm2 (int)\n",
    "\n",
    "    Returns the sum of the parameters\n",
    "    TODO:\n",
    "        *\n",
    "    >>> sum_funct(10,20) \n",
    "    30\n",
    "\n",
    "    >>> sum_funct(70,30) \n",
    "    100\n",
    "    \"\"\"\n",
    "    return nm1 + nm2\n",
    "\n",
    "doctest.run_docstring_examples(sum_funct,globals())\n",
    "# or \"python -m doctest file_name.py\" on console, if you have a .py file"
   ]
  },
  {
   "cell_type": "code",
   "execution_count": null,
   "metadata": {},
   "outputs": [],
   "source": [
    " "
   ]
  }
 ],
 "metadata": {
  "kernelspec": {
   "display_name": "Python 3",
   "language": "python",
   "name": "python3"
  },
  "language_info": {
   "codemirror_mode": {
    "name": "ipython",
    "version": 3
   },
   "file_extension": ".py",
   "mimetype": "text/x-python",
   "name": "python",
   "nbconvert_exporter": "python",
   "pygments_lexer": "ipython3",
   "version": "3.9.0"
  }
 },
 "nbformat": 4,
 "nbformat_minor": 2
}
